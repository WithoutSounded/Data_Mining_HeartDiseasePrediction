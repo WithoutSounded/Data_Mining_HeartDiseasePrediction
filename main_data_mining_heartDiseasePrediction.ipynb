{
 "cells": [
  {
   "cell_type": "code",
   "execution_count": 53,
   "id": "1eab528c",
   "metadata": {},
   "outputs": [],
   "source": [
    "# library for data description and viz.\n",
    "import numpy as np\n",
    "import pandas as pd\n",
    "import matplotlib.pyplot as plt\n",
    "import seaborn as sns"
   ]
  },
  {
   "cell_type": "code",
   "execution_count": 91,
   "id": "7d60f5fb",
   "metadata": {},
   "outputs": [],
   "source": [
    "# library for preprocessing, model, pipeline and Decision Tree\n",
    "from sklearn.preprocessing import OneHotEncoder,StandardScaler,PowerTransformer\n",
    "\n",
    "from imblearn.over_sampling import SMOTE\n",
    "\n",
    "from sklearn.model_selection import train_test_split, cross_val_score, cross_val_predict\n",
    "# GridSearchCV to find optimal max_depth\n",
    "from sklearn.model_selection import KFold\n",
    "from sklearn.model_selection import GridSearchCV\n",
    "\n",
    "from sklearn.pipeline import make_pipeline\n",
    "from sklearn.pipeline import Pipeline\n",
    "from sklearn.compose import make_column_transformer\n",
    "from sklearn import metrics\n",
    "from sklearn.metrics import classification_report,confusion_matrix,accuracy_score\n",
    "\n",
    "from sklearn import tree\n",
    "from sklearn.tree import DecisionTreeClassifier\n",
    "\n",
    "from sklearn.dummy import DummyClassifier\n",
    "from sklearn.discriminant_analysis import LinearDiscriminantAnalysis\n",
    "from sklearn.linear_model import LogisticRegression\n",
    "from sklearn.svm import SVC\n",
    "from sklearn.neighbors import KNeighborsClassifier\n",
    "\n",
    "from sklearn.naive_bayes import GaussianNB, BernoulliNB, CategoricalNB, ComplementNB, MultinomialNB\n",
    "\n",
    "from sklearn.ensemble import RandomForestClassifier\n",
    "from sklearn.ensemble import AdaBoostClassifier\n",
    "from xgboost import XGBClassifier\n",
    "from catboost import CatBoostClassifier"
   ]
  },
  {
   "cell_type": "markdown",
   "id": "28269875",
   "metadata": {},
   "source": [
    "# import data and take a glance of data"
   ]
  },
  {
   "cell_type": "code",
   "execution_count": 55,
   "id": "32d9b3cb",
   "metadata": {},
   "outputs": [
    {
     "data": {
      "text/html": [
       "<div>\n",
       "<style scoped>\n",
       "    .dataframe tbody tr th:only-of-type {\n",
       "        vertical-align: middle;\n",
       "    }\n",
       "\n",
       "    .dataframe tbody tr th {\n",
       "        vertical-align: top;\n",
       "    }\n",
       "\n",
       "    .dataframe thead th {\n",
       "        text-align: right;\n",
       "    }\n",
       "</style>\n",
       "<table border=\"1\" class=\"dataframe\">\n",
       "  <thead>\n",
       "    <tr style=\"text-align: right;\">\n",
       "      <th></th>\n",
       "      <th>Age</th>\n",
       "      <th>Sex</th>\n",
       "      <th>ChestPainType</th>\n",
       "      <th>RestingBP</th>\n",
       "      <th>Cholesterol</th>\n",
       "      <th>FastingBS</th>\n",
       "      <th>RestingECG</th>\n",
       "      <th>MaxHR</th>\n",
       "      <th>ExerciseAngina</th>\n",
       "      <th>Oldpeak</th>\n",
       "      <th>ST_Slope</th>\n",
       "      <th>HeartDisease</th>\n",
       "    </tr>\n",
       "  </thead>\n",
       "  <tbody>\n",
       "    <tr>\n",
       "      <th>0</th>\n",
       "      <td>40</td>\n",
       "      <td>M</td>\n",
       "      <td>ATA</td>\n",
       "      <td>140</td>\n",
       "      <td>289</td>\n",
       "      <td>0</td>\n",
       "      <td>Normal</td>\n",
       "      <td>172</td>\n",
       "      <td>N</td>\n",
       "      <td>0.00</td>\n",
       "      <td>Up</td>\n",
       "      <td>0</td>\n",
       "    </tr>\n",
       "    <tr>\n",
       "      <th>1</th>\n",
       "      <td>49</td>\n",
       "      <td>F</td>\n",
       "      <td>NAP</td>\n",
       "      <td>160</td>\n",
       "      <td>180</td>\n",
       "      <td>0</td>\n",
       "      <td>Normal</td>\n",
       "      <td>156</td>\n",
       "      <td>N</td>\n",
       "      <td>1.00</td>\n",
       "      <td>Flat</td>\n",
       "      <td>1</td>\n",
       "    </tr>\n",
       "    <tr>\n",
       "      <th>2</th>\n",
       "      <td>37</td>\n",
       "      <td>M</td>\n",
       "      <td>ATA</td>\n",
       "      <td>130</td>\n",
       "      <td>283</td>\n",
       "      <td>0</td>\n",
       "      <td>ST</td>\n",
       "      <td>98</td>\n",
       "      <td>N</td>\n",
       "      <td>0.00</td>\n",
       "      <td>Up</td>\n",
       "      <td>0</td>\n",
       "    </tr>\n",
       "    <tr>\n",
       "      <th>3</th>\n",
       "      <td>48</td>\n",
       "      <td>F</td>\n",
       "      <td>ASY</td>\n",
       "      <td>138</td>\n",
       "      <td>214</td>\n",
       "      <td>0</td>\n",
       "      <td>Normal</td>\n",
       "      <td>108</td>\n",
       "      <td>Y</td>\n",
       "      <td>1.50</td>\n",
       "      <td>Flat</td>\n",
       "      <td>1</td>\n",
       "    </tr>\n",
       "    <tr>\n",
       "      <th>4</th>\n",
       "      <td>54</td>\n",
       "      <td>M</td>\n",
       "      <td>NAP</td>\n",
       "      <td>150</td>\n",
       "      <td>195</td>\n",
       "      <td>0</td>\n",
       "      <td>Normal</td>\n",
       "      <td>122</td>\n",
       "      <td>N</td>\n",
       "      <td>0.00</td>\n",
       "      <td>Up</td>\n",
       "      <td>0</td>\n",
       "    </tr>\n",
       "  </tbody>\n",
       "</table>\n",
       "</div>"
      ],
      "text/plain": [
       "   Age Sex ChestPainType  RestingBP  Cholesterol  FastingBS RestingECG  MaxHR  \\\n",
       "0   40   M           ATA        140          289          0     Normal    172   \n",
       "1   49   F           NAP        160          180          0     Normal    156   \n",
       "2   37   M           ATA        130          283          0         ST     98   \n",
       "3   48   F           ASY        138          214          0     Normal    108   \n",
       "4   54   M           NAP        150          195          0     Normal    122   \n",
       "\n",
       "  ExerciseAngina  Oldpeak ST_Slope  HeartDisease  \n",
       "0              N     0.00       Up             0  \n",
       "1              N     1.00     Flat             1  \n",
       "2              N     0.00       Up             0  \n",
       "3              Y     1.50     Flat             1  \n",
       "4              N     0.00       Up             0  "
      ]
     },
     "execution_count": 55,
     "metadata": {},
     "output_type": "execute_result"
    }
   ],
   "source": [
    "df = pd.read_csv('./heart.csv')\n",
    "df.head()"
   ]
  },
  {
   "cell_type": "code",
   "execution_count": 56,
   "id": "b79b9def",
   "metadata": {},
   "outputs": [
    {
     "name": "stdout",
     "output_type": "stream",
     "text": [
      "<class 'pandas.core.frame.DataFrame'>\n",
      "RangeIndex: 918 entries, 0 to 917\n",
      "Data columns (total 12 columns):\n",
      " #   Column          Non-Null Count  Dtype  \n",
      "---  ------          --------------  -----  \n",
      " 0   Age             918 non-null    int64  \n",
      " 1   Sex             918 non-null    object \n",
      " 2   ChestPainType   918 non-null    object \n",
      " 3   RestingBP       918 non-null    int64  \n",
      " 4   Cholesterol     918 non-null    int64  \n",
      " 5   FastingBS       918 non-null    int64  \n",
      " 6   RestingECG      918 non-null    object \n",
      " 7   MaxHR           918 non-null    int64  \n",
      " 8   ExerciseAngina  918 non-null    object \n",
      " 9   Oldpeak         918 non-null    float64\n",
      " 10  ST_Slope        918 non-null    object \n",
      " 11  HeartDisease    918 non-null    int64  \n",
      "dtypes: float64(1), int64(6), object(5)\n",
      "memory usage: 86.2+ KB\n"
     ]
    }
   ],
   "source": [
    "# checking data integrity\n",
    "df.info()\n",
    "# so in this case we do have different type of data int64 and object which is string i believed"
   ]
  },
  {
   "cell_type": "code",
   "execution_count": 57,
   "id": "b5e13afc",
   "metadata": {},
   "outputs": [
    {
     "data": {
      "text/plain": [
       "0"
      ]
     },
     "execution_count": 57,
     "metadata": {},
     "output_type": "execute_result"
    }
   ],
   "source": [
    "# check repeated data\n",
    "df.duplicated().sum()"
   ]
  },
  {
   "cell_type": "code",
   "execution_count": 58,
   "id": "bcdfec33",
   "metadata": {},
   "outputs": [
    {
     "name": "stdout",
     "output_type": "stream",
     "text": [
      "numerical columns:\n",
      " Index(['Age', 'RestingBP', 'Cholesterol', 'FastingBS', 'MaxHR', 'Oldpeak',\n",
      "       'HeartDisease'],\n",
      "      dtype='object')\n",
      "----------------------------------------------------------------------------------------------------\n",
      "categorical columns:\n",
      " Index(['Sex', 'ChestPainType', 'RestingECG', 'ExerciseAngina', 'ST_Slope'], dtype='object')\n"
     ]
    }
   ],
   "source": [
    "# seperated numerical and categorical data \n",
    "numerical_columns = df.select_dtypes('number').columns\n",
    "categorical_columns = df.select_dtypes('object').columns\n",
    "print('numerical columns:\\n', numerical_columns)\n",
    "print('-'*100)\n",
    "print('categorical columns:\\n', categorical_columns)"
   ]
  },
  {
   "cell_type": "code",
   "execution_count": 59,
   "id": "2731a90a",
   "metadata": {},
   "outputs": [
    {
     "data": {
      "text/plain": [
       "Age              50\n",
       "RestingBP        67\n",
       "Cholesterol     222\n",
       "FastingBS         2\n",
       "MaxHR           119\n",
       "Oldpeak          53\n",
       "HeartDisease      2\n",
       "dtype: int64"
      ]
     },
     "execution_count": 59,
     "metadata": {},
     "output_type": "execute_result"
    }
   ],
   "source": [
    "df[numerical_columns].nunique()"
   ]
  },
  {
   "cell_type": "code",
   "execution_count": 60,
   "id": "9453941b",
   "metadata": {},
   "outputs": [
    {
     "data": {
      "text/plain": [
       "Sex               2\n",
       "ChestPainType     4\n",
       "RestingECG        3\n",
       "ExerciseAngina    2\n",
       "ST_Slope          3\n",
       "dtype: int64"
      ]
     },
     "execution_count": 60,
     "metadata": {},
     "output_type": "execute_result"
    }
   ],
   "source": [
    "df[categorical_columns].nunique()"
   ]
  },
  {
   "cell_type": "code",
   "execution_count": 61,
   "id": "548b23ec",
   "metadata": {},
   "outputs": [
    {
     "data": {
      "text/html": [
       "<div>\n",
       "<style scoped>\n",
       "    .dataframe tbody tr th:only-of-type {\n",
       "        vertical-align: middle;\n",
       "    }\n",
       "\n",
       "    .dataframe tbody tr th {\n",
       "        vertical-align: top;\n",
       "    }\n",
       "\n",
       "    .dataframe thead th {\n",
       "        text-align: right;\n",
       "    }\n",
       "</style>\n",
       "<table border=\"1\" class=\"dataframe\">\n",
       "  <thead>\n",
       "    <tr style=\"text-align: right;\">\n",
       "      <th></th>\n",
       "      <th>Age</th>\n",
       "      <th>Sex</th>\n",
       "      <th>ChestPainType</th>\n",
       "      <th>RestingBP</th>\n",
       "      <th>Cholesterol</th>\n",
       "      <th>FastingBS</th>\n",
       "      <th>RestingECG</th>\n",
       "      <th>MaxHR</th>\n",
       "      <th>ExerciseAngina</th>\n",
       "      <th>Oldpeak</th>\n",
       "      <th>ST_Slope</th>\n",
       "      <th>HeartDisease</th>\n",
       "    </tr>\n",
       "  </thead>\n",
       "  <tbody>\n",
       "    <tr>\n",
       "      <th>0</th>\n",
       "      <td>40</td>\n",
       "      <td>M</td>\n",
       "      <td>ATA</td>\n",
       "      <td>140</td>\n",
       "      <td>289</td>\n",
       "      <td>0</td>\n",
       "      <td>Normal</td>\n",
       "      <td>172</td>\n",
       "      <td>N</td>\n",
       "      <td>0.00</td>\n",
       "      <td>Up</td>\n",
       "      <td>0</td>\n",
       "    </tr>\n",
       "    <tr>\n",
       "      <th>1</th>\n",
       "      <td>49</td>\n",
       "      <td>F</td>\n",
       "      <td>NAP</td>\n",
       "      <td>160</td>\n",
       "      <td>180</td>\n",
       "      <td>0</td>\n",
       "      <td>Normal</td>\n",
       "      <td>156</td>\n",
       "      <td>N</td>\n",
       "      <td>1.00</td>\n",
       "      <td>Flat</td>\n",
       "      <td>1</td>\n",
       "    </tr>\n",
       "    <tr>\n",
       "      <th>2</th>\n",
       "      <td>37</td>\n",
       "      <td>M</td>\n",
       "      <td>ATA</td>\n",
       "      <td>130</td>\n",
       "      <td>283</td>\n",
       "      <td>0</td>\n",
       "      <td>ST</td>\n",
       "      <td>98</td>\n",
       "      <td>N</td>\n",
       "      <td>0.00</td>\n",
       "      <td>Up</td>\n",
       "      <td>0</td>\n",
       "    </tr>\n",
       "    <tr>\n",
       "      <th>3</th>\n",
       "      <td>48</td>\n",
       "      <td>F</td>\n",
       "      <td>ASY</td>\n",
       "      <td>138</td>\n",
       "      <td>214</td>\n",
       "      <td>0</td>\n",
       "      <td>Normal</td>\n",
       "      <td>108</td>\n",
       "      <td>Y</td>\n",
       "      <td>1.50</td>\n",
       "      <td>Flat</td>\n",
       "      <td>1</td>\n",
       "    </tr>\n",
       "    <tr>\n",
       "      <th>4</th>\n",
       "      <td>54</td>\n",
       "      <td>M</td>\n",
       "      <td>NAP</td>\n",
       "      <td>150</td>\n",
       "      <td>195</td>\n",
       "      <td>0</td>\n",
       "      <td>Normal</td>\n",
       "      <td>122</td>\n",
       "      <td>N</td>\n",
       "      <td>0.00</td>\n",
       "      <td>Up</td>\n",
       "      <td>0</td>\n",
       "    </tr>\n",
       "    <tr>\n",
       "      <th>...</th>\n",
       "      <td>...</td>\n",
       "      <td>...</td>\n",
       "      <td>...</td>\n",
       "      <td>...</td>\n",
       "      <td>...</td>\n",
       "      <td>...</td>\n",
       "      <td>...</td>\n",
       "      <td>...</td>\n",
       "      <td>...</td>\n",
       "      <td>...</td>\n",
       "      <td>...</td>\n",
       "      <td>...</td>\n",
       "    </tr>\n",
       "    <tr>\n",
       "      <th>913</th>\n",
       "      <td>45</td>\n",
       "      <td>M</td>\n",
       "      <td>TA</td>\n",
       "      <td>110</td>\n",
       "      <td>264</td>\n",
       "      <td>0</td>\n",
       "      <td>Normal</td>\n",
       "      <td>132</td>\n",
       "      <td>N</td>\n",
       "      <td>1.20</td>\n",
       "      <td>Flat</td>\n",
       "      <td>1</td>\n",
       "    </tr>\n",
       "    <tr>\n",
       "      <th>914</th>\n",
       "      <td>68</td>\n",
       "      <td>M</td>\n",
       "      <td>ASY</td>\n",
       "      <td>144</td>\n",
       "      <td>193</td>\n",
       "      <td>1</td>\n",
       "      <td>Normal</td>\n",
       "      <td>141</td>\n",
       "      <td>N</td>\n",
       "      <td>3.40</td>\n",
       "      <td>Flat</td>\n",
       "      <td>1</td>\n",
       "    </tr>\n",
       "    <tr>\n",
       "      <th>915</th>\n",
       "      <td>57</td>\n",
       "      <td>M</td>\n",
       "      <td>ASY</td>\n",
       "      <td>130</td>\n",
       "      <td>131</td>\n",
       "      <td>0</td>\n",
       "      <td>Normal</td>\n",
       "      <td>115</td>\n",
       "      <td>Y</td>\n",
       "      <td>1.20</td>\n",
       "      <td>Flat</td>\n",
       "      <td>1</td>\n",
       "    </tr>\n",
       "    <tr>\n",
       "      <th>916</th>\n",
       "      <td>57</td>\n",
       "      <td>F</td>\n",
       "      <td>ATA</td>\n",
       "      <td>130</td>\n",
       "      <td>236</td>\n",
       "      <td>0</td>\n",
       "      <td>LVH</td>\n",
       "      <td>174</td>\n",
       "      <td>N</td>\n",
       "      <td>0.00</td>\n",
       "      <td>Flat</td>\n",
       "      <td>1</td>\n",
       "    </tr>\n",
       "    <tr>\n",
       "      <th>917</th>\n",
       "      <td>38</td>\n",
       "      <td>M</td>\n",
       "      <td>NAP</td>\n",
       "      <td>138</td>\n",
       "      <td>175</td>\n",
       "      <td>0</td>\n",
       "      <td>Normal</td>\n",
       "      <td>173</td>\n",
       "      <td>N</td>\n",
       "      <td>0.00</td>\n",
       "      <td>Up</td>\n",
       "      <td>0</td>\n",
       "    </tr>\n",
       "  </tbody>\n",
       "</table>\n",
       "<p>918 rows × 12 columns</p>\n",
       "</div>"
      ],
      "text/plain": [
       "     Age Sex ChestPainType  RestingBP  Cholesterol  FastingBS RestingECG  \\\n",
       "0     40   M           ATA        140          289          0     Normal   \n",
       "1     49   F           NAP        160          180          0     Normal   \n",
       "2     37   M           ATA        130          283          0         ST   \n",
       "3     48   F           ASY        138          214          0     Normal   \n",
       "4     54   M           NAP        150          195          0     Normal   \n",
       "..   ...  ..           ...        ...          ...        ...        ...   \n",
       "913   45   M            TA        110          264          0     Normal   \n",
       "914   68   M           ASY        144          193          1     Normal   \n",
       "915   57   M           ASY        130          131          0     Normal   \n",
       "916   57   F           ATA        130          236          0        LVH   \n",
       "917   38   M           NAP        138          175          0     Normal   \n",
       "\n",
       "     MaxHR ExerciseAngina  Oldpeak ST_Slope  HeartDisease  \n",
       "0      172              N     0.00       Up             0  \n",
       "1      156              N     1.00     Flat             1  \n",
       "2       98              N     0.00       Up             0  \n",
       "3      108              Y     1.50     Flat             1  \n",
       "4      122              N     0.00       Up             0  \n",
       "..     ...            ...      ...      ...           ...  \n",
       "913    132              N     1.20     Flat             1  \n",
       "914    141              N     3.40     Flat             1  \n",
       "915    115              Y     1.20     Flat             1  \n",
       "916    174              N     0.00     Flat             1  \n",
       "917    173              N     0.00       Up             0  \n",
       "\n",
       "[918 rows x 12 columns]"
      ]
     },
     "execution_count": 61,
     "metadata": {},
     "output_type": "execute_result"
    }
   ],
   "source": [
    "df"
   ]
  },
  {
   "cell_type": "code",
   "execution_count": 19,
   "id": "ebe645e4",
   "metadata": {},
   "outputs": [
    {
     "data": {
      "image/png": "[encoded data removed]",
      "text/plain": [
       "<Figure size 648x648 with 1 Axes>"
      ]
     },
     "metadata": {},
     "output_type": "display_data"
    }
   ],
   "source": [
    "labels = ['1', '0']\n",
    "size = df['HeartDisease'].value_counts()\n",
    "colors = ['lightgreen', 'orange']\n",
    "explode = [0, 0.1]\n",
    "\n",
    "plt.rcParams['figure.figsize'] = (9, 9)\n",
    "plt.pie(size, colors = colors, explode = explode, labels = labels, shadow = True, autopct = '%.2f%%')\n",
    "plt.title('HeartDisease', fontsize = 20)\n",
    "plt.axis('off')\n",
    "plt.legend()\n",
    "plt.show()"
   ]
  },
  {
   "cell_type": "code",
   "execution_count": 62,
   "id": "8200059d",
   "metadata": {},
   "outputs": [
    {
     "data": {
      "image/png": "[encoded data removed]",
      "text/plain": [
       "<Figure size 1080x576 with 1 Axes>"
      ]
     },
     "metadata": {
      "needs_background": "light"
     },
     "output_type": "display_data"
    },
    {
     "name": "stdout",
     "output_type": "stream",
     "text": [
      "total Heart Disease result\n",
      "1    508\n",
      "0    410\n",
      "Name: HeartDisease, dtype: int64\n",
      "Percentage of patient do have Heart Disease: 0.553377 \n",
      "Percentage of patient DON'T have Heart Disease: 0.446623 \n"
     ]
    }
   ],
   "source": [
    "# checking whether data skewed or not\n",
    "plt.bar([0,1],[df.HeartDisease.value_counts()[0],df.HeartDisease.value_counts()[1]], color='brown')\n",
    "plt.xticks([0,1], [0,1])\n",
    "plt.show()\n",
    "\n",
    "print('total Heart Disease result')\n",
    "print(df.HeartDisease.value_counts())\n",
    "print('Percentage of patient do have Heart Disease: %f '%(df.HeartDisease.value_counts()[1]/df.HeartDisease.value_counts().sum()))\n",
    "print('Percentage of patient DON\\'T have Heart Disease: %f '%(df.HeartDisease.value_counts()[0]/df.HeartDisease.value_counts().sum()))"
   ]
  },
  {
   "cell_type": "code",
   "execution_count": 63,
   "id": "46360ffc",
   "metadata": {},
   "outputs": [
    {
     "data": {
      "text/html": [
       "<div>\n",
       "<style scoped>\n",
       "    .dataframe tbody tr th:only-of-type {\n",
       "        vertical-align: middle;\n",
       "    }\n",
       "\n",
       "    .dataframe tbody tr th {\n",
       "        vertical-align: top;\n",
       "    }\n",
       "\n",
       "    .dataframe thead th {\n",
       "        text-align: right;\n",
       "    }\n",
       "</style>\n",
       "<table border=\"1\" class=\"dataframe\">\n",
       "  <thead>\n",
       "    <tr style=\"text-align: right;\">\n",
       "      <th></th>\n",
       "      <th>Age</th>\n",
       "      <th>RestingBP</th>\n",
       "      <th>Cholesterol</th>\n",
       "      <th>FastingBS</th>\n",
       "      <th>MaxHR</th>\n",
       "      <th>Oldpeak</th>\n",
       "      <th>HeartDisease</th>\n",
       "    </tr>\n",
       "  </thead>\n",
       "  <tbody>\n",
       "    <tr>\n",
       "      <th>count</th>\n",
       "      <td>918.00</td>\n",
       "      <td>918.00</td>\n",
       "      <td>918.00</td>\n",
       "      <td>918.00</td>\n",
       "      <td>918.00</td>\n",
       "      <td>918.00</td>\n",
       "      <td>918.00</td>\n",
       "    </tr>\n",
       "    <tr>\n",
       "      <th>mean</th>\n",
       "      <td>53.51</td>\n",
       "      <td>132.40</td>\n",
       "      <td>198.80</td>\n",
       "      <td>0.23</td>\n",
       "      <td>136.81</td>\n",
       "      <td>0.89</td>\n",
       "      <td>0.55</td>\n",
       "    </tr>\n",
       "    <tr>\n",
       "      <th>std</th>\n",
       "      <td>9.43</td>\n",
       "      <td>18.51</td>\n",
       "      <td>109.38</td>\n",
       "      <td>0.42</td>\n",
       "      <td>25.46</td>\n",
       "      <td>1.07</td>\n",
       "      <td>0.50</td>\n",
       "    </tr>\n",
       "    <tr>\n",
       "      <th>min</th>\n",
       "      <td>28.00</td>\n",
       "      <td>0.00</td>\n",
       "      <td>0.00</td>\n",
       "      <td>0.00</td>\n",
       "      <td>60.00</td>\n",
       "      <td>-2.60</td>\n",
       "      <td>0.00</td>\n",
       "    </tr>\n",
       "    <tr>\n",
       "      <th>25%</th>\n",
       "      <td>47.00</td>\n",
       "      <td>120.00</td>\n",
       "      <td>173.25</td>\n",
       "      <td>0.00</td>\n",
       "      <td>120.00</td>\n",
       "      <td>0.00</td>\n",
       "      <td>0.00</td>\n",
       "    </tr>\n",
       "    <tr>\n",
       "      <th>50%</th>\n",
       "      <td>54.00</td>\n",
       "      <td>130.00</td>\n",
       "      <td>223.00</td>\n",
       "      <td>0.00</td>\n",
       "      <td>138.00</td>\n",
       "      <td>0.60</td>\n",
       "      <td>1.00</td>\n",
       "    </tr>\n",
       "    <tr>\n",
       "      <th>75%</th>\n",
       "      <td>60.00</td>\n",
       "      <td>140.00</td>\n",
       "      <td>267.00</td>\n",
       "      <td>0.00</td>\n",
       "      <td>156.00</td>\n",
       "      <td>1.50</td>\n",
       "      <td>1.00</td>\n",
       "    </tr>\n",
       "    <tr>\n",
       "      <th>max</th>\n",
       "      <td>77.00</td>\n",
       "      <td>200.00</td>\n",
       "      <td>603.00</td>\n",
       "      <td>1.00</td>\n",
       "      <td>202.00</td>\n",
       "      <td>6.20</td>\n",
       "      <td>1.00</td>\n",
       "    </tr>\n",
       "  </tbody>\n",
       "</table>\n",
       "</div>"
      ],
      "text/plain": [
       "         Age  RestingBP  Cholesterol  FastingBS  MaxHR  Oldpeak  HeartDisease\n",
       "count 918.00     918.00       918.00     918.00 918.00   918.00        918.00\n",
       "mean   53.51     132.40       198.80       0.23 136.81     0.89          0.55\n",
       "std     9.43      18.51       109.38       0.42  25.46     1.07          0.50\n",
       "min    28.00       0.00         0.00       0.00  60.00    -2.60          0.00\n",
       "25%    47.00     120.00       173.25       0.00 120.00     0.00          0.00\n",
       "50%    54.00     130.00       223.00       0.00 138.00     0.60          1.00\n",
       "75%    60.00     140.00       267.00       0.00 156.00     1.50          1.00\n",
       "max    77.00     200.00       603.00       1.00 202.00     6.20          1.00"
      ]
     },
     "execution_count": 63,
     "metadata": {},
     "output_type": "execute_result"
    }
   ],
   "source": [
    "# take a sip of Numerical data\n",
    "pd.set_option(\"display.float\", \"{:.2f}\".format)\n",
    "df.describe()"
   ]
  },
  {
   "cell_type": "markdown",
   "id": "a4d6f5c8",
   "metadata": {},
   "source": [
    "# Numerical Data Analysis (numerical EDA)"
   ]
  },
  {
   "cell_type": "code",
   "execution_count": 64,
   "id": "03f3ebcb",
   "metadata": {},
   "outputs": [
    {
     "name": "stdout",
     "output_type": "stream",
     "text": [
      "Distrubution of  Age\n"
     ]
    },
    {
     "data": {
      "image/png": "[encoded data removed]",
      "text/plain": [
       "<Figure size 1080x576 with 1 Axes>"
      ]
     },
     "metadata": {
      "needs_background": "light"
     },
     "output_type": "display_data"
    },
    {
     "name": "stdout",
     "output_type": "stream",
     "text": [
      "----------------------------------------------------------------------------------------------------\n",
      "Distrubution of  RestingBP\n"
     ]
    },
    {
     "data": {
      "image/png": "[encoded data removed]",
      "text/plain": [
       "<Figure size 1080x576 with 1 Axes>"
      ]
     },
     "metadata": {
      "needs_background": "light"
     },
     "output_type": "display_data"
    },
    {
     "name": "stdout",
     "output_type": "stream",
     "text": [
      "----------------------------------------------------------------------------------------------------\n",
      "Distrubution of  Cholesterol\n"
     ]
    },
    {
     "data": {
      "image/png": "[encoded data removed]",
      "text/plain": [
       "<Figure size 1080x576 with 1 Axes>"
      ]
     },
     "metadata": {
      "needs_background": "light"
     },
     "output_type": "display_data"
    },
    {
     "name": "stdout",
     "output_type": "stream",
     "text": [
      "----------------------------------------------------------------------------------------------------\n",
      "Distrubution of  FastingBS\n"
     ]
    },
    {
     "data": {
      "image/png": "[encoded data removed]",
      "text/plain": [
       "<Figure size 1080x576 with 1 Axes>"
      ]
     },
     "metadata": {
      "needs_background": "light"
     },
     "output_type": "display_data"
    },
    {
     "name": "stdout",
     "output_type": "stream",
     "text": [
      "----------------------------------------------------------------------------------------------------\n",
      "Distrubution of  MaxHR\n"
     ]
    },
    {
     "data": {
      "image/png": "[encoded data removed]",
      "text/plain": [
       "<Figure size 1080x576 with 1 Axes>"
      ]
     },
     "metadata": {
      "needs_background": "light"
     },
     "output_type": "display_data"
    },
    {
     "name": "stdout",
     "output_type": "stream",
     "text": [
      "----------------------------------------------------------------------------------------------------\n",
      "Distrubution of  Oldpeak\n"
     ]
    },
    {
     "data": {
      "image/png": "[encoded data removed]",
      "text/plain": [
       "<Figure size 1080x576 with 1 Axes>"
      ]
     },
     "metadata": {
      "needs_background": "light"
     },
     "output_type": "display_data"
    },
    {
     "name": "stdout",
     "output_type": "stream",
     "text": [
      "----------------------------------------------------------------------------------------------------\n",
      "Distrubution of  HeartDisease\n"
     ]
    },
    {
     "data": {
      "image/png": "[encoded data removed]",
      "text/plain": [
       "<Figure size 1080x576 with 1 Axes>"
      ]
     },
     "metadata": {
      "needs_background": "light"
     },
     "output_type": "display_data"
    },
    {
     "name": "stdout",
     "output_type": "stream",
     "text": [
      "----------------------------------------------------------------------------------------------------\n"
     ]
    }
   ],
   "source": [
    "for i in df[numerical_columns]:\n",
    "    print(\"Distrubution of \", i)\n",
    "    plt.hist(df[i], bins=40)\n",
    "    plt.show()\n",
    "    print('-'*100)"
   ]
  },
  {
   "cell_type": "code",
   "execution_count": 18,
   "id": "f0428a55",
   "metadata": {},
   "outputs": [
    {
     "name": "stderr",
     "output_type": "stream",
     "text": [
      "C:\\Users\\WithoutSounded\\anaconda3\\lib\\site-packages\\seaborn\\distributions.py:2619: FutureWarning: `distplot` is a deprecated function and will be removed in a future version. Please adapt your code to use either `displot` (a figure-level function with similar flexibility) or `histplot` (an axes-level function for histograms).\n",
      "  warnings.warn(msg, FutureWarning)\n"
     ]
    },
    {
     "data": {
      "text/plain": [
       "<AxesSubplot:xlabel='Age', ylabel='Density'>"
      ]
     },
     "execution_count": 18,
     "metadata": {},
     "output_type": "execute_result"
    },
    {
     "data": {
      "image/png": "[encoded data removed]",
      "text/plain": [
       "<Figure size 432x288 with 1 Axes>"
      ]
     },
     "metadata": {
      "needs_background": "light"
     },
     "output_type": "display_data"
    }
   ],
   "source": [
    "df['HeartDisease'].value_counts()\n",
    " \n",
    "sns.distplot(df['Age'],color='Red')"
   ]
  },
  {
   "cell_type": "code",
   "execution_count": 22,
   "id": "0cb0eab1",
   "metadata": {},
   "outputs": [
    {
     "data": {
      "text/plain": [
       "Text(0.5, 1.0, 'Age vs Heart Disease')"
      ]
     },
     "execution_count": 22,
     "metadata": {},
     "output_type": "execute_result"
    },
    {
     "data": {
      "image/png": "[encoded data removed]",
      "text/plain": [
       "<Figure size 1728x432 with 1 Axes>"
      ]
     },
     "metadata": {
      "needs_background": "light"
     },
     "output_type": "display_data"
    }
   ],
   "source": [
    "fig,ax=plt.subplots(figsize=(24,6))\n",
    "plt.subplot(1, 3, 1)\n",
    "age_bins = [20,30,40,50,60,70,80]\n",
    "df['bin_age']=pd.cut(df['Age'], bins=age_bins)\n",
    "g1=sns.countplot(x='bin_age',data=df ,hue='HeartDisease',palette='plasma')\n",
    "g1.set_title(\"Age vs Heart Disease\")"
   ]
  },
  {
   "cell_type": "code",
   "execution_count": null,
   "id": "aa305a28",
   "metadata": {},
   "outputs": [],
   "source": []
  },
  {
   "cell_type": "markdown",
   "id": "9839af36",
   "metadata": {},
   "source": [
    "### Heatmap"
   ]
  },
  {
   "cell_type": "code",
   "execution_count": 65,
   "id": "85115441",
   "metadata": {},
   "outputs": [
    {
     "data": {
      "text/plain": [
       "<matplotlib.colorbar.Colorbar at 0x1445bea3520>"
      ]
     },
     "execution_count": 65,
     "metadata": {},
     "output_type": "execute_result"
    },
    {
     "data": {
      "image/png": "[encoded data removed]",
      "text/plain": [
       "<Figure size 1080x576 with 2 Axes>"
      ]
     },
     "metadata": {
      "needs_background": "light"
     },
     "output_type": "display_data"
    }
   ],
   "source": [
    "# Heatmap of numerical data correlation\n",
    "fig, ax = plt.subplots()\n",
    "ax.set_xticks(np.arange(len(df[numerical_columns].count()))+.5)\n",
    "ax.set_yticks(np.arange(len(df[numerical_columns].count()))+.5)\n",
    "\n",
    "ax.set_xticklabels(df[numerical_columns])\n",
    "ax.set_yticklabels(df[numerical_columns])\n",
    "\n",
    "plt.setp(ax.get_xticklabels(), rotation=45, ha=\"right\", rotation_mode=\"anchor\")\n",
    "# ax.spines[:].set_visible(False)\n",
    "ax.tick_params(which=\"minor\", bottom=False, left=False)\n",
    "\n",
    "df_num_corr = df[numerical_columns].corr().to_numpy()\n",
    "for y in range(len(df[numerical_columns].count())):\n",
    "    for x in range(len(df[numerical_columns].count())):\n",
    "        plt.text(x+0.5, y+0.5, '%.4f' % df_num_corr[y, x],\n",
    "                 horizontalalignment='center',\n",
    "                 verticalalignment='center',\n",
    "                 )\n",
    "\n",
    "heatmap = plt.pcolor(df[numerical_columns].corr())\n",
    "plt.colorbar(heatmap)\n"
   ]
  },
  {
   "cell_type": "code",
   "execution_count": 21,
   "id": "349d0ccb",
   "metadata": {},
   "outputs": [
    {
     "data": {
      "image/png": "[encoded data removed]",
      "text/plain": [
       "<Figure size 1080x576 with 2 Axes>"
      ]
     },
     "metadata": {
      "needs_background": "light"
     },
     "output_type": "display_data"
    }
   ],
   "source": [
    "plt.rcParams['figure.figsize'] = (15, 8)\n",
    "sns.heatmap(df.corr(), cmap = 'Wistia', annot = True)\n",
    "plt.title('Heatmap for the Data', fontsize = 20)\n",
    "plt.show()"
   ]
  },
  {
   "cell_type": "markdown",
   "id": "b4514f03",
   "metadata": {},
   "source": [
    "# Categorical Data Analylsis (categorical EDA)"
   ]
  },
  {
   "cell_type": "code",
   "execution_count": 66,
   "id": "dce47ed4",
   "metadata": {},
   "outputs": [
    {
     "data": {
      "image/png": "[encoded data removed]",
      "text/plain": [
       "<Figure size 1080x576 with 1 Axes>"
      ]
     },
     "metadata": {
      "needs_background": "light"
     },
     "output_type": "display_data"
    }
   ],
   "source": [
    "df_s_hd = df[['Sex', 'HeartDisease']]\n",
    "labels = ['Male', 'Female']\n",
    "nHD = [len(df_s_hd.loc[(df_s_hd['Sex']=='M') & (df_s_hd['HeartDisease']==0)]),\n",
    "      len(df_s_hd.loc[(df_s_hd['Sex']=='F') & (df_s_hd['HeartDisease']==0)])]\n",
    "HD = [len(df_s_hd.loc[(df_s_hd['Sex']=='M') & (df_s_hd['HeartDisease']==1)]),\n",
    "        len(df_s_hd.loc[(df_s_hd['Sex']=='F') & (df_s_hd['HeartDisease']==1)])]\n",
    "\n",
    "width = 0.9       # the width of the bars: can also be len(x) sequence\n",
    "\n",
    "fig, ax = plt.subplots()\n",
    "\n",
    "ax.bar(labels, nHD, width, label='Normal')\n",
    "ax.bar(labels, HD, width, bottom=nHD, label='Heart Disease')\n",
    "\n",
    "ax.set_ylabel('# of gender')\n",
    "ax.set_title('Sex v.s. Heart Disease')\n",
    "ax.legend()\n",
    "\n",
    "plt.show()"
   ]
  },
  {
   "cell_type": "code",
   "execution_count": 20,
   "id": "105e5cd4",
   "metadata": {},
   "outputs": [
    {
     "data": {
      "text/plain": [
       "Text(0.5, 1.0, '')"
      ]
     },
     "execution_count": 20,
     "metadata": {},
     "output_type": "execute_result"
    },
    {
     "data": {
      "image/png": "[encoded data removed]",
      "text/plain": [
       "<Figure size 1152x432 with 1 Axes>"
      ]
     },
     "metadata": {
      "needs_background": "light"
     },
     "output_type": "display_data"
    }
   ],
   "source": [
    "fig,ax=plt.subplots(figsize=(16,6))\n",
    "plt.subplot(121)\n",
    "s1=sns.boxenplot(x='Sex',y='Age',hue='HeartDisease',data=df,palette='YlGn')\n",
    "s1.set_title(\"\")"
   ]
  },
  {
   "cell_type": "code",
   "execution_count": 67,
   "id": "d1a1aacc",
   "metadata": {},
   "outputs": [
    {
     "data": {
      "image/png": "[encoded data removed]",
      "text/plain": [
       "<Figure size 1080x576 with 1 Axes>"
      ]
     },
     "metadata": {
      "needs_background": "light"
     },
     "output_type": "display_data"
    }
   ],
   "source": [
    "df_cpt_hd = df[['ChestPainType', 'HeartDisease']]\n",
    "labels = ['ATA', 'NAP','ASY','TA']\n",
    "nHD = [len(df_cpt_hd.loc[(df_cpt_hd['ChestPainType']=='ATA') & (df_cpt_hd['HeartDisease']==0)]),\n",
    "       len(df_cpt_hd.loc[(df_cpt_hd['ChestPainType']=='NAP') & (df_cpt_hd['HeartDisease']==0)]),\n",
    "       len(df_cpt_hd.loc[(df_cpt_hd['ChestPainType']=='ASY') & (df_cpt_hd['HeartDisease']==0)]),\n",
    "       len(df_cpt_hd.loc[(df_cpt_hd['ChestPainType']=='TA') & (df_cpt_hd['HeartDisease']==0)])\n",
    "      ]\n",
    "HD = [len(df_cpt_hd.loc[(df_cpt_hd['ChestPainType']=='ATA') & (df_cpt_hd['HeartDisease']==1)]),\n",
    "       len(df_cpt_hd.loc[(df_cpt_hd['ChestPainType']=='NAP') & (df_cpt_hd['HeartDisease']==1)]),\n",
    "       len(df_cpt_hd.loc[(df_cpt_hd['ChestPainType']=='ASY') & (df_cpt_hd['HeartDisease']==1)]),\n",
    "       len(df_cpt_hd.loc[(df_cpt_hd['ChestPainType']=='TA') & (df_cpt_hd['HeartDisease']==1)])\n",
    "      ]\n",
    "\n",
    "width = 0.90       # the width of the bars: can also be len(x) sequence\n",
    "\n",
    "fig, ax = plt.subplots()\n",
    "\n",
    "ax.bar(labels, nHD, width, label='Normal')\n",
    "ax.bar(labels, HD, width, bottom=nHD, label='Heart Disease')\n",
    "\n",
    "ax.set_ylabel('counting')\n",
    "ax.set_title('ChestPainType v.s. Heart Disease')\n",
    "ax.legend()\n",
    "\n",
    "plt.show()"
   ]
  },
  {
   "cell_type": "code",
   "execution_count": 68,
   "id": "ae4691c8",
   "metadata": {},
   "outputs": [
    {
     "data": {
      "image/png": "[encoded data removed]",
      "text/plain": [
       "<Figure size 1080x576 with 1 Axes>"
      ]
     },
     "metadata": {
      "needs_background": "light"
     },
     "output_type": "display_data"
    }
   ],
   "source": [
    "df_ecg_hd = df[['RestingECG', 'HeartDisease']]\n",
    "labels = ['Normal', 'LVH','ST']\n",
    "nHD = [len(df_ecg_hd.loc[(df_ecg_hd['RestingECG']=='Normal') & (df_ecg_hd['HeartDisease']==0)]),\n",
    "       len(df_ecg_hd.loc[(df_ecg_hd['RestingECG']=='LVH') & (df_ecg_hd['HeartDisease']==0)]),\n",
    "       len(df_ecg_hd.loc[(df_ecg_hd['RestingECG']=='ST') & (df_ecg_hd['HeartDisease']==0)])\n",
    "      ]\n",
    "HD = [len(df_ecg_hd.loc[(df_ecg_hd['RestingECG']=='Normal') & (df_ecg_hd['HeartDisease']==1)]),\n",
    "       len(df_ecg_hd.loc[(df_ecg_hd['RestingECG']=='LVH') & (df_ecg_hd['HeartDisease']==1)]),\n",
    "       len(df_ecg_hd.loc[(df_ecg_hd['RestingECG']=='ST') & (df_ecg_hd['HeartDisease']==1)])\n",
    "      ]\n",
    "\n",
    "width = 0.90       # the width of the bars: can also be len(x) sequence\n",
    "\n",
    "fig, ax = plt.subplots()\n",
    "\n",
    "ax.bar(labels, nHD, width, label='Normal')\n",
    "ax.bar(labels, HD, width, bottom=nHD, label='Heart Disease')\n",
    "\n",
    "ax.set_ylabel('counting')\n",
    "ax.set_title('RestingECG v.s. Heart Disease')\n",
    "ax.legend()\n",
    "\n",
    "plt.show()"
   ]
  },
  {
   "cell_type": "code",
   "execution_count": 69,
   "id": "91e5d441",
   "metadata": {},
   "outputs": [
    {
     "data": {
      "image/png": "[encoded data removed]",
      "text/plain": [
       "<Figure size 1080x576 with 1 Axes>"
      ]
     },
     "metadata": {
      "needs_background": "light"
     },
     "output_type": "display_data"
    }
   ],
   "source": [
    "df_ea_hd = df[['ExerciseAngina', 'HeartDisease']]\n",
    "labels = ['Y','N']\n",
    "nHD = [len(df_ea_hd.loc[(df_ea_hd['ExerciseAngina']=='Y') & (df_ea_hd['HeartDisease']==0)]),\n",
    "       len(df_ea_hd.loc[(df_ea_hd['ExerciseAngina']=='N') & (df_ea_hd['HeartDisease']==0)])\n",
    "      ]\n",
    "HD = [len(df_ea_hd.loc[(df_ea_hd['ExerciseAngina']=='Y') & (df_ea_hd['HeartDisease']==1)]),\n",
    "       len(df_ea_hd.loc[(df_ea_hd['ExerciseAngina']=='N') & (df_ea_hd['HeartDisease']==1)])\n",
    "      ]\n",
    "\n",
    "width = 0.90       # the width of the bars: can also be len(x) sequence\n",
    "\n",
    "fig, ax = plt.subplots()\n",
    "\n",
    "ax.bar(labels, nHD, width, label='Normal')\n",
    "ax.bar(labels, HD, width, bottom=nHD, label='Heart Disease')\n",
    "\n",
    "ax.set_ylabel('counting')\n",
    "ax.set_title('ExerciseAngina v.s. Heart Disease')\n",
    "ax.legend()\n",
    "\n",
    "plt.show()"
   ]
  },
  {
   "cell_type": "code",
   "execution_count": 70,
   "id": "f4f2a467",
   "metadata": {},
   "outputs": [
    {
     "data": {
      "image/png": "[encoded data removed]",
      "text/plain": [
       "<Figure size 1080x576 with 1 Axes>"
      ]
     },
     "metadata": {
      "needs_background": "light"
     },
     "output_type": "display_data"
    }
   ],
   "source": [
    "df_st_hd = df[['ST_Slope', 'HeartDisease']]\n",
    "labels = ['Flat', 'Down','Up']\n",
    "nHD = [len(df_st_hd.loc[(df_st_hd['ST_Slope']=='Flat') & (df_st_hd['HeartDisease']==0)]),\n",
    "       len(df_st_hd.loc[(df_st_hd['ST_Slope']=='Up') & (df_st_hd['HeartDisease']==0)]),\n",
    "       len(df_st_hd.loc[(df_st_hd['ST_Slope']=='Down') & (df_st_hd['HeartDisease']==0)])\n",
    "      ]\n",
    "HD = [len(df_st_hd.loc[(df_st_hd['ST_Slope']=='Flat') & (df_st_hd['HeartDisease']==1)]),\n",
    "       len(df_st_hd.loc[(df_st_hd['ST_Slope']=='Up') & (df_st_hd['HeartDisease']==1)]),\n",
    "       len(df_st_hd.loc[(df_st_hd['ST_Slope']=='Down') & (df_st_hd['HeartDisease']==1)])\n",
    "      ]\n",
    "\n",
    "width = 0.90       # the width of the bars: can also be len(x) sequence\n",
    "\n",
    "fig, ax = plt.subplots()\n",
    "\n",
    "ax.bar(labels, nHD, width, label='Normal')\n",
    "ax.bar(labels, HD, width, bottom=nHD, label='Heart Disease')\n",
    "\n",
    "ax.set_ylabel('counting')\n",
    "ax.set_title('ST_Slope v.s. Heart Disease')\n",
    "ax.legend()\n",
    "\n",
    "plt.show()"
   ]
  },
  {
   "cell_type": "markdown",
   "id": "9b029d62",
   "metadata": {},
   "source": [
    "## short conclusion of data description\n",
    "Overall Insights from the Exploratory Data Analysis  \n",
    "* Target variable(Heart Disease) has close to balanced data.  \n",
    "* Numerical features have weak correlation with the target variable.  \n",
    "* Oldpeak (depression related number) has a positive correlation with the heart disease.  \n",
    "* Maximum heart rate has negative correlation with the heart disease.  \n",
    "* Interestingly cholesterol has negative correlation with the heart disease.  \n",
    "* Based on the gender; Men are almost 2.44 times more likely have a heart disease than women.  \n",
    "* We can observe clear differences among the chest pain type.  \n",
    "* Person with ASY: Asymptomatic chest pain has almost 6 times more likely have a heart disease than person with ATA Atypical Angina chest pain.  \n",
    "* RestingECG: resting electrocardiogram results don't differ much.  \n",
    "* Person with ST: having ST-T wave abnormality is more likely have a heart disease than the others.  \n",
    "* ExerciseAngina: exercise-induced angina with 'Yes' almost 2.4 times more likley have a heart disaese than exercise-induced angina with 'No'  \n",
    "* ST_Slope: the slope of the peak exercise ST segment has differences.  \n",
    "* ST_Slope Up significantly less likely has heart disease than the other two segment.  "
   ]
  },
  {
   "cell_type": "markdown",
   "id": "441c1074",
   "metadata": {},
   "source": [
    "# Model Build"
   ]
  },
  {
   "cell_type": "markdown",
   "id": "3afd9139",
   "metadata": {},
   "source": [
    "### Baseline encoder -- one-hot encoder"
   ]
  },
  {
   "cell_type": "code",
   "execution_count": 71,
   "id": "322256ef",
   "metadata": {},
   "outputs": [],
   "source": [
    "x = df.drop('HeartDisease', axis=1)\n",
    "y = df['HeartDisease']\n",
    "x_train, x_test, y_train, y_test = train_test_split(x, y, test_size=0.33)\n",
    "\n",
    "ohe= OneHotEncoder()\n",
    "data_encoded = ohe.fit_transform(df[categorical_columns]) #WTF\n",
    "ct= make_column_transformer((ohe, categorical_columns), remainder='passthrough')"
   ]
  },
  {
   "cell_type": "markdown",
   "id": "a6254a9f",
   "metadata": {},
   "source": [
    "# Dummy"
   ]
  },
  {
   "cell_type": "code",
   "execution_count": 72,
   "id": "bfd7b526",
   "metadata": {},
   "outputs": [
    {
     "name": "stdout",
     "output_type": "stream",
     "text": [
      "model : DummyClassifier(constant=0, strategy='constant') and  accuracy score is : 0.4653\n",
      "####################################################################################################\n",
      "Cross Validate 10 fold: \n",
      "[0.44565217 0.44565217 0.44565217 0.44565217 0.44565217 0.44565217\n",
      " 0.44565217 0.44565217 0.45054945 0.45054945]\n",
      "cv-10 average score is : 44.66 %\n",
      "####################################################################################################\n"
     ]
    },
    {
     "data": {
      "text/html": [
       "<div>\n",
       "<style scoped>\n",
       "    .dataframe tbody tr th:only-of-type {\n",
       "        vertical-align: middle;\n",
       "    }\n",
       "\n",
       "    .dataframe tbody tr th {\n",
       "        vertical-align: top;\n",
       "    }\n",
       "\n",
       "    .dataframe thead th {\n",
       "        text-align: right;\n",
       "    }\n",
       "</style>\n",
       "<table border=\"1\" class=\"dataframe\">\n",
       "  <thead>\n",
       "    <tr style=\"text-align: right;\">\n",
       "      <th></th>\n",
       "      <th>Accuracy</th>\n",
       "    </tr>\n",
       "  </thead>\n",
       "  <tbody>\n",
       "    <tr>\n",
       "      <th>DummyClassifier</th>\n",
       "      <td>0.47</td>\n",
       "    </tr>\n",
       "  </tbody>\n",
       "</table>\n",
       "</div>"
      ],
      "text/plain": [
       "                 Accuracy\n",
       "DummyClassifier      0.47"
      ]
     },
     "execution_count": 72,
     "metadata": {},
     "output_type": "execute_result"
    }
   ],
   "source": [
    "accuracy=[]\n",
    "\n",
    "# defining model\n",
    "model = DummyClassifier(strategy='constant', constant=0)\n",
    "pipe = make_pipeline(ct, model)\n",
    "pipe.fit(x_train, y_train)\n",
    "y_pred = pipe.predict(x_test)\n",
    "\n",
    "accuracy.append(round(metrics.accuracy_score(y_test, y_pred),4))\n",
    "print (f'model : {model} and  accuracy score is : {round(metrics.accuracy_score(y_test, y_pred),4)}')\n",
    "\n",
    "model_names = ['DummyClassifier']\n",
    "dummy_result_df = pd.DataFrame({'Accuracy':accuracy}, index=model_names)\n",
    "\n",
    "#  10 fold cross validation\n",
    "print('#'*100)\n",
    "print('Cross Validate 10 fold: ')\n",
    "scores = cross_val_score(pipe, x, y, cv=10)\n",
    "print(scores)\n",
    "print('cv-10 average score is : {:.2f} %'.format(scores.mean()*100))\n",
    "print('#'*100)\n",
    "\n",
    "\n",
    "dummy_result_df\n"
   ]
  },
  {
   "cell_type": "code",
   "execution_count": null,
   "id": "c7a54ab1",
   "metadata": {},
   "outputs": [],
   "source": []
  },
  {
   "cell_type": "markdown",
   "id": "a0523cad",
   "metadata": {},
   "source": [
    "# Logistic, Linear Discriminant, SVC, KNN"
   ]
  },
  {
   "cell_type": "code",
   "execution_count": 73,
   "id": "ee52201b",
   "metadata": {},
   "outputs": [],
   "source": [
    "# defining model\n",
    "lr = LogisticRegression(solver='liblinear')\n",
    "lda= LinearDiscriminantAnalysis()\n",
    "svm = SVC(gamma='scale')\n",
    "knn = KNeighborsClassifier()"
   ]
  },
  {
   "cell_type": "code",
   "execution_count": 76,
   "id": "100fb8e4",
   "metadata": {},
   "outputs": [
    {
     "name": "stdout",
     "output_type": "stream",
     "text": [
      "####################################################################################################\n",
      "model LogisticRegression(solver='liblinear') \n",
      "average 10-fold cross validation accuracy score is : 85.2723\n",
      "####################################################################################################\n",
      "####################################################################################################\n",
      "model LinearDiscriminantAnalysis() \n",
      "average 10-fold cross validation accuracy score is : 84.7289\n",
      "####################################################################################################\n",
      "####################################################################################################\n",
      "model SVC() \n",
      "average 10-fold cross validation accuracy score is : 70.5686\n",
      "####################################################################################################\n",
      "####################################################################################################\n",
      "model KNeighborsClassifier() \n",
      "average 10-fold cross validation accuracy score is : 70.2437\n",
      "####################################################################################################\n"
     ]
    },
    {
     "data": {
      "text/html": [
       "<div>\n",
       "<style scoped>\n",
       "    .dataframe tbody tr th:only-of-type {\n",
       "        vertical-align: middle;\n",
       "    }\n",
       "\n",
       "    .dataframe tbody tr th {\n",
       "        vertical-align: top;\n",
       "    }\n",
       "\n",
       "    .dataframe thead th {\n",
       "        text-align: right;\n",
       "    }\n",
       "</style>\n",
       "<table border=\"1\" class=\"dataframe\">\n",
       "  <thead>\n",
       "    <tr style=\"text-align: right;\">\n",
       "      <th></th>\n",
       "      <th>Accuracy</th>\n",
       "    </tr>\n",
       "  </thead>\n",
       "  <tbody>\n",
       "    <tr>\n",
       "      <th>Logistic</th>\n",
       "      <td>85.27</td>\n",
       "    </tr>\n",
       "    <tr>\n",
       "      <th>LinearDiscriminant</th>\n",
       "      <td>84.73</td>\n",
       "    </tr>\n",
       "    <tr>\n",
       "      <th>SVM</th>\n",
       "      <td>70.57</td>\n",
       "    </tr>\n",
       "    <tr>\n",
       "      <th>KNeighbors</th>\n",
       "      <td>70.24</td>\n",
       "    </tr>\n",
       "  </tbody>\n",
       "</table>\n",
       "</div>"
      ],
      "text/plain": [
       "                    Accuracy\n",
       "Logistic               85.27\n",
       "LinearDiscriminant     84.73\n",
       "SVM                    70.57\n",
       "KNeighbors             70.24"
      ]
     },
     "execution_count": 76,
     "metadata": {},
     "output_type": "execute_result"
    }
   ],
   "source": [
    "models = [lr,lda,svm,knn]\n",
    "accuracy=[]\n",
    "\n",
    "for model in models: \n",
    "    pipe = make_pipeline(ct, model)\n",
    "    pipe.fit(x_train, y_train)\n",
    "    y_pred = pipe.predict(x_test)\n",
    "#     accuracy.append(round(scores.mean()*100 ,4))\n",
    "    print('#'*100)\n",
    "    scores = cross_val_score(pipe, x, y, cv=10)\n",
    "    accuracy.append(round(scores.mean()*100,4))\n",
    "    print (f'model {model} \\naverage 10-fold cross validation accuracy score is : {round(scores.mean()*100,4)}')\n",
    "    print('#'*100)\n",
    "    \n",
    "model_names = ['Logistic','LinearDiscriminant','SVM','KNeighbors']\n",
    "result_df1 = pd.DataFrame({'Accuracy':accuracy}, index=model_names)\n",
    "result_df1"
   ]
  },
  {
   "cell_type": "markdown",
   "id": "5d007510",
   "metadata": {},
   "source": [
    "# Logistic, Linear Discriminant, SVC, KNN with scaler"
   ]
  },
  {
   "cell_type": "code",
   "execution_count": 39,
   "id": "b340f5e3",
   "metadata": {},
   "outputs": [],
   "source": [
    "s= StandardScaler()\n",
    "ct_ohe_s= make_column_transformer((ohe, categorical_columns),(s, numerical_columns.drop('HeartDisease')))  "
   ]
  },
  {
   "cell_type": "code",
   "execution_count": 77,
   "id": "11aba037",
   "metadata": {},
   "outputs": [
    {
     "name": "stdout",
     "output_type": "stream",
     "text": [
      "####################################################################################################\n",
      "model LogisticRegression(solver='liblinear') \n",
      "average 10-fold cross validation accuracy score is : 85.1648\n",
      "####################################################################################################\n",
      "####################################################################################################\n",
      "model LinearDiscriminantAnalysis() \n",
      "average 10-fold cross validation accuracy score is : 84.7289\n",
      "####################################################################################################\n",
      "####################################################################################################\n",
      "model SVC() \n",
      "average 10-fold cross validation accuracy score is : 86.2578\n",
      "####################################################################################################\n",
      "####################################################################################################\n",
      "model KNeighborsClassifier() \n",
      "average 10-fold cross validation accuracy score is : 85.4945\n",
      "####################################################################################################\n"
     ]
    },
    {
     "data": {
      "text/html": [
       "<div>\n",
       "<style scoped>\n",
       "    .dataframe tbody tr th:only-of-type {\n",
       "        vertical-align: middle;\n",
       "    }\n",
       "\n",
       "    .dataframe tbody tr th {\n",
       "        vertical-align: top;\n",
       "    }\n",
       "\n",
       "    .dataframe thead th {\n",
       "        text-align: right;\n",
       "    }\n",
       "</style>\n",
       "<table border=\"1\" class=\"dataframe\">\n",
       "  <thead>\n",
       "    <tr style=\"text-align: right;\">\n",
       "      <th></th>\n",
       "      <th>Accuracy</th>\n",
       "    </tr>\n",
       "  </thead>\n",
       "  <tbody>\n",
       "    <tr>\n",
       "      <th>Logistic_scl</th>\n",
       "      <td>85.16</td>\n",
       "    </tr>\n",
       "    <tr>\n",
       "      <th>LinearDiscriminant_scl</th>\n",
       "      <td>84.73</td>\n",
       "    </tr>\n",
       "    <tr>\n",
       "      <th>SVM_scl</th>\n",
       "      <td>86.26</td>\n",
       "    </tr>\n",
       "    <tr>\n",
       "      <th>KNeighbors_scl</th>\n",
       "      <td>85.49</td>\n",
       "    </tr>\n",
       "  </tbody>\n",
       "</table>\n",
       "</div>"
      ],
      "text/plain": [
       "                        Accuracy\n",
       "Logistic_scl               85.16\n",
       "LinearDiscriminant_scl     84.73\n",
       "SVM_scl                    86.26\n",
       "KNeighbors_scl             85.49"
      ]
     },
     "execution_count": 77,
     "metadata": {},
     "output_type": "execute_result"
    }
   ],
   "source": [
    "accuracy=[]\n",
    "\n",
    "lr = LogisticRegression(solver='liblinear')\n",
    "lda= LinearDiscriminantAnalysis()\n",
    "svm = SVC(gamma='scale')\n",
    "knn = KNeighborsClassifier()\n",
    "\n",
    "models = [lr,lda,svm,knn]\n",
    "\n",
    "for model in models: \n",
    "    pipe = make_pipeline(ct_ohe_s, model)\n",
    "    pipe.fit(x_train, y_train)\n",
    "    y_pred = pipe.predict(x_test)\n",
    "#     accuracy.append(round(scores.mean()*100 ,4))\n",
    "    print('#'*100)\n",
    "    scores = cross_val_score(pipe, x, y, cv=10)\n",
    "    accuracy.append(round(scores.mean()*100,4))\n",
    "    print (f'model {model} \\naverage 10-fold cross validation accuracy score is : {round(scores.mean()*100,4)}')\n",
    "    print('#'*100)\n",
    "    \n",
    "model_names = ['Logistic_scl','LinearDiscriminant_scl','SVM_scl','KNeighbors_scl']\n",
    "result_df = pd.DataFrame({'Accuracy':accuracy}, index=model_names)\n",
    "result_df"
   ]
  },
  {
   "cell_type": "markdown",
   "id": "4070d946",
   "metadata": {},
   "source": [
    "# Bayes"
   ]
  },
  {
   "cell_type": "code",
   "execution_count": 90,
   "id": "b66a3406",
   "metadata": {},
   "outputs": [
    {
     "name": "stdout",
     "output_type": "stream",
     "text": [
      "Accuracy of naive bayes Classifier ::  0.8646864686468647\n",
      "Cross Validate 10 fold: \n",
      "[0.81521739 0.92391304 0.88043478 0.92391304 0.86956522 0.83695652\n",
      " 0.88043478 0.75       0.81318681 0.82417582]\n",
      "cv-10 average score is : 85.18 %\n",
      "####################################################################################################\n",
      "Accuracy of naive bayes Classifier ::  0.858085808580858\n",
      "Cross Validate 10 fold: \n",
      "[0.84782609 0.93478261 0.86956522 0.92391304 0.86956522 0.83695652\n",
      " 0.86956522 0.81521739 0.76923077 0.79120879]\n",
      "cv-10 average score is : 85.28 %\n",
      "####################################################################################################\n"
     ]
    },
    {
     "data": {
      "text/html": [
       "<div>\n",
       "<style scoped>\n",
       "    .dataframe tbody tr th:only-of-type {\n",
       "        vertical-align: middle;\n",
       "    }\n",
       "\n",
       "    .dataframe tbody tr th {\n",
       "        vertical-align: top;\n",
       "    }\n",
       "\n",
       "    .dataframe thead th {\n",
       "        text-align: right;\n",
       "    }\n",
       "</style>\n",
       "<table border=\"1\" class=\"dataframe\">\n",
       "  <thead>\n",
       "    <tr style=\"text-align: right;\">\n",
       "      <th></th>\n",
       "      <th>Accuracy</th>\n",
       "    </tr>\n",
       "  </thead>\n",
       "  <tbody>\n",
       "    <tr>\n",
       "      <th>GaussianNB</th>\n",
       "      <td>85.18</td>\n",
       "    </tr>\n",
       "    <tr>\n",
       "      <th>BernoulliNB</th>\n",
       "      <td>85.28</td>\n",
       "    </tr>\n",
       "  </tbody>\n",
       "</table>\n",
       "</div>"
      ],
      "text/plain": [
       "             Accuracy\n",
       "GaussianNB      85.18\n",
       "BernoulliNB     85.28"
      ]
     },
     "execution_count": 90,
     "metadata": {},
     "output_type": "execute_result"
    }
   ],
   "source": [
    "models = [GaussianNB(), BernoulliNB()]\n",
    "accuracy = []\n",
    " \n",
    "#[1] Naive Bayes classifier for multivariate Bernoulli models.\n",
    "#[2] CategoricalNB(), (must not contain negative number), Naive Bayes classifier for categorical features.\n",
    "#[3] Complement Naive Bayes classifier. , ComplementNB()\n",
    "#[4] Naive Bayes classifier for multinomial models., MultinomialNB()\n",
    "\n",
    "for model in models:\n",
    "    pipe = make_pipeline(ct, model) \n",
    "    pipe.fit(x_train,y_train)\n",
    "    y_pred_rf = pipe.predict(x_test)\n",
    "    print(\"Accuracy of naive bayes Classifier :: \", metrics.accuracy_score(y_test, y_pred_rf))\n",
    "\n",
    "        #  10 fold cross validatio\n",
    "    print('Cross Validate 10 fold: ')\n",
    "    scores = cross_val_score(pipe, x, y, cv=10)\n",
    "    print(scores)\n",
    "    print('cv-10 average score is : {:.2f} %'.format(scores.mean()*100))\n",
    "    accuracy.append(round(scores.mean()*100,4))\n",
    "    print('#'*100)\n",
    "\n",
    "model_names = ['GaussianNB','BernoulliNB']\n",
    "result_df = pd.DataFrame({'Accuracy':accuracy}, index=model_names)\n",
    "result_df"
   ]
  },
  {
   "cell_type": "code",
   "execution_count": null,
   "id": "e61e6fd7",
   "metadata": {},
   "outputs": [],
   "source": []
  },
  {
   "cell_type": "markdown",
   "id": "8bbb0608",
   "metadata": {},
   "source": [
    "## Decision Tree"
   ]
  },
  {
   "cell_type": "code",
   "execution_count": 79,
   "id": "ee2b76c4",
   "metadata": {},
   "outputs": [
    {
     "name": "stdout",
     "output_type": "stream",
     "text": [
      "Accuracy of Decision Trees :  0.8448844884488449\n",
      "cv-10 average score is : 80.48 %\n",
      "--------------------------------------------------\n",
      "Rules are below : \n",
      "--------------------------------------------------\n",
      "|--- ST_Slope_Up <= 0.50\n",
      "|   |--- ChestPainType_ASY <= 0.50\n",
      "|   |   |--- Sex_F <= 0.50\n",
      "|   |   |   |--- class: 1\n",
      "|   |   |--- Sex_F >  0.50\n",
      "|   |   |   |--- class: 0\n",
      "|   |--- ChestPainType_ASY >  0.50\n",
      "|   |   |--- Sex_F <= 0.50\n",
      "|   |   |   |--- class: 1\n",
      "|   |   |--- Sex_F >  0.50\n",
      "|   |   |   |--- class: 1\n",
      "|--- ST_Slope_Up >  0.50\n",
      "|   |--- Cholesterol <= 42.50\n",
      "|   |   |--- Age <= 59.50\n",
      "|   |   |   |--- class: 1\n",
      "|   |   |--- Age >  59.50\n",
      "|   |   |   |--- class: 1\n",
      "|   |--- Cholesterol >  42.50\n",
      "|   |   |--- ExerciseAngina_Y <= 0.50\n",
      "|   |   |   |--- class: 0\n",
      "|   |   |--- ExerciseAngina_Y >  0.50\n",
      "|   |   |   |--- class: 0\n",
      "\n"
     ]
    }
   ],
   "source": [
    "# ***********************Decision Tree Classification***********************\n",
    "### gini as criterion\n",
    "decTree = DecisionTreeClassifier(max_depth=3)\n",
    "pipe = make_pipeline(ct, decTree)\n",
    "pipe.fit(x_train, y_train)\n",
    "# print(pipe)\n",
    "\n",
    "y_pred_decTree = pipe.predict(x_test)\n",
    "print(\"Accuracy of Decision Trees : \" , metrics.accuracy_score(y_test, y_pred_decTree))\n",
    "\n",
    "scores = cross_val_score(pipe, x, y, cv=10)\n",
    "print('cv-10 average score is : {:.2f} %'.format(scores.mean()*100))\n",
    "\n",
    "#feature_names = pipe.named_steps['columntransformer'].transformers[0][1].get_feature_names(df[categorical].columns).tolist()+df[numerical].columns.tolist()\n",
    "feature_names = ct.get_feature_names_out().tolist()\n",
    "feature_names = [feature.split('__')[1] for feature in feature_names]\n",
    "\n",
    "print('-'*50)\n",
    "print('Rules are below : ')\n",
    "print('-'*50)\n",
    "text_representation = tree.export_text(decTree, feature_names=feature_names)\n",
    "print(text_representation)\n",
    "\n",
    "# print(tree.plot_tree(decTree))\n"
   ]
  },
  {
   "cell_type": "code",
   "execution_count": 92,
   "id": "e734fb76",
   "metadata": {},
   "outputs": [
    {
     "data": {
      "text/plain": [
       "Pipeline(steps=[('columntransformer',\n",
       "                 ColumnTransformer(remainder='passthrough',\n",
       "                                   transformers=[('onehotencoder',\n",
       "                                                  OneHotEncoder(),\n",
       "                                                  Index(['Sex', 'ChestPainType', 'RestingECG', 'ExerciseAngina', 'ST_Slope'], dtype='object'))])),\n",
       "                ('gridsearchcv',\n",
       "                 GridSearchCV(cv=10,\n",
       "                              estimator=DecisionTreeClassifier(random_state=13),\n",
       "                              param_grid={'max_depth': range(1, 15)},\n",
       "                              scoring='accuracy'))])"
      ]
     },
     "execution_count": 92,
     "metadata": {},
     "output_type": "execute_result"
    }
   ],
   "source": [
    "# specify number of folds for k-fold CV\n",
    "n_folds = 10\n",
    "\n",
    "# parameters to build the model on\n",
    "parameters = {'max_depth': range(1, 15)}\n",
    "\n",
    "# instantiate the model\n",
    "dtree = DecisionTreeClassifier(criterion = \"gini\", random_state = 13)\n",
    "\n",
    "# fit tree on training data\n",
    "tree = GridSearchCV(dtree, parameters, cv=n_folds, scoring=\"accuracy\")\n",
    "pipe = make_pipeline(ct, tree)\n",
    "pipe.fit(x_train, y_train)"
   ]
  },
  {
   "cell_type": "code",
   "execution_count": 93,
   "id": "36e9ed6a",
   "metadata": {},
   "outputs": [
    {
     "data": {
      "text/html": [
       "<div>\n",
       "<style scoped>\n",
       "    .dataframe tbody tr th:only-of-type {\n",
       "        vertical-align: middle;\n",
       "    }\n",
       "\n",
       "    .dataframe tbody tr th {\n",
       "        vertical-align: top;\n",
       "    }\n",
       "\n",
       "    .dataframe thead th {\n",
       "        text-align: right;\n",
       "    }\n",
       "</style>\n",
       "<table border=\"1\" class=\"dataframe\">\n",
       "  <thead>\n",
       "    <tr style=\"text-align: right;\">\n",
       "      <th></th>\n",
       "      <th>mean_fit_time</th>\n",
       "      <th>std_fit_time</th>\n",
       "      <th>mean_score_time</th>\n",
       "      <th>std_score_time</th>\n",
       "      <th>param_max_depth</th>\n",
       "      <th>params</th>\n",
       "      <th>split0_test_score</th>\n",
       "      <th>split1_test_score</th>\n",
       "      <th>split2_test_score</th>\n",
       "      <th>split3_test_score</th>\n",
       "      <th>split4_test_score</th>\n",
       "      <th>split5_test_score</th>\n",
       "      <th>split6_test_score</th>\n",
       "      <th>split7_test_score</th>\n",
       "      <th>split8_test_score</th>\n",
       "      <th>split9_test_score</th>\n",
       "      <th>mean_test_score</th>\n",
       "      <th>std_test_score</th>\n",
       "      <th>rank_test_score</th>\n",
       "    </tr>\n",
       "  </thead>\n",
       "  <tbody>\n",
       "    <tr>\n",
       "      <th>0</th>\n",
       "      <td>0.00</td>\n",
       "      <td>0.00</td>\n",
       "      <td>0.00</td>\n",
       "      <td>0.00</td>\n",
       "      <td>1</td>\n",
       "      <td>{'max_depth': 1}</td>\n",
       "      <td>0.87</td>\n",
       "      <td>0.81</td>\n",
       "      <td>0.84</td>\n",
       "      <td>0.81</td>\n",
       "      <td>0.79</td>\n",
       "      <td>0.74</td>\n",
       "      <td>0.80</td>\n",
       "      <td>0.77</td>\n",
       "      <td>0.80</td>\n",
       "      <td>0.84</td>\n",
       "      <td>0.81</td>\n",
       "      <td>0.04</td>\n",
       "      <td>8</td>\n",
       "    </tr>\n",
       "    <tr>\n",
       "      <th>1</th>\n",
       "      <td>0.00</td>\n",
       "      <td>0.00</td>\n",
       "      <td>0.00</td>\n",
       "      <td>0.00</td>\n",
       "      <td>2</td>\n",
       "      <td>{'max_depth': 2}</td>\n",
       "      <td>0.89</td>\n",
       "      <td>0.81</td>\n",
       "      <td>0.81</td>\n",
       "      <td>0.76</td>\n",
       "      <td>0.81</td>\n",
       "      <td>0.79</td>\n",
       "      <td>0.85</td>\n",
       "      <td>0.79</td>\n",
       "      <td>0.80</td>\n",
       "      <td>0.85</td>\n",
       "      <td>0.81</td>\n",
       "      <td>0.04</td>\n",
       "      <td>5</td>\n",
       "    </tr>\n",
       "    <tr>\n",
       "      <th>2</th>\n",
       "      <td>0.00</td>\n",
       "      <td>0.00</td>\n",
       "      <td>0.00</td>\n",
       "      <td>0.00</td>\n",
       "      <td>3</td>\n",
       "      <td>{'max_depth': 3}</td>\n",
       "      <td>0.87</td>\n",
       "      <td>0.81</td>\n",
       "      <td>0.85</td>\n",
       "      <td>0.79</td>\n",
       "      <td>0.79</td>\n",
       "      <td>0.80</td>\n",
       "      <td>0.84</td>\n",
       "      <td>0.75</td>\n",
       "      <td>0.82</td>\n",
       "      <td>0.85</td>\n",
       "      <td>0.82</td>\n",
       "      <td>0.03</td>\n",
       "      <td>3</td>\n",
       "    </tr>\n",
       "    <tr>\n",
       "      <th>3</th>\n",
       "      <td>0.00</td>\n",
       "      <td>0.00</td>\n",
       "      <td>0.00</td>\n",
       "      <td>0.00</td>\n",
       "      <td>4</td>\n",
       "      <td>{'max_depth': 4}</td>\n",
       "      <td>0.89</td>\n",
       "      <td>0.84</td>\n",
       "      <td>0.90</td>\n",
       "      <td>0.85</td>\n",
       "      <td>0.79</td>\n",
       "      <td>0.84</td>\n",
       "      <td>0.85</td>\n",
       "      <td>0.79</td>\n",
       "      <td>0.85</td>\n",
       "      <td>0.87</td>\n",
       "      <td>0.85</td>\n",
       "      <td>0.04</td>\n",
       "      <td>1</td>\n",
       "    </tr>\n",
       "    <tr>\n",
       "      <th>4</th>\n",
       "      <td>0.00</td>\n",
       "      <td>0.00</td>\n",
       "      <td>0.00</td>\n",
       "      <td>0.00</td>\n",
       "      <td>5</td>\n",
       "      <td>{'max_depth': 5}</td>\n",
       "      <td>0.84</td>\n",
       "      <td>0.84</td>\n",
       "      <td>0.87</td>\n",
       "      <td>0.82</td>\n",
       "      <td>0.74</td>\n",
       "      <td>0.79</td>\n",
       "      <td>0.87</td>\n",
       "      <td>0.79</td>\n",
       "      <td>0.84</td>\n",
       "      <td>0.80</td>\n",
       "      <td>0.82</td>\n",
       "      <td>0.04</td>\n",
       "      <td>2</td>\n",
       "    </tr>\n",
       "    <tr>\n",
       "      <th>5</th>\n",
       "      <td>0.00</td>\n",
       "      <td>0.00</td>\n",
       "      <td>0.00</td>\n",
       "      <td>0.00</td>\n",
       "      <td>6</td>\n",
       "      <td>{'max_depth': 6}</td>\n",
       "      <td>0.84</td>\n",
       "      <td>0.82</td>\n",
       "      <td>0.87</td>\n",
       "      <td>0.84</td>\n",
       "      <td>0.77</td>\n",
       "      <td>0.79</td>\n",
       "      <td>0.85</td>\n",
       "      <td>0.75</td>\n",
       "      <td>0.80</td>\n",
       "      <td>0.82</td>\n",
       "      <td>0.82</td>\n",
       "      <td>0.03</td>\n",
       "      <td>4</td>\n",
       "    </tr>\n",
       "    <tr>\n",
       "      <th>6</th>\n",
       "      <td>0.00</td>\n",
       "      <td>0.00</td>\n",
       "      <td>0.00</td>\n",
       "      <td>0.00</td>\n",
       "      <td>7</td>\n",
       "      <td>{'max_depth': 7}</td>\n",
       "      <td>0.84</td>\n",
       "      <td>0.79</td>\n",
       "      <td>0.84</td>\n",
       "      <td>0.79</td>\n",
       "      <td>0.77</td>\n",
       "      <td>0.80</td>\n",
       "      <td>0.84</td>\n",
       "      <td>0.77</td>\n",
       "      <td>0.82</td>\n",
       "      <td>0.84</td>\n",
       "      <td>0.81</td>\n",
       "      <td>0.03</td>\n",
       "      <td>6</td>\n",
       "    </tr>\n",
       "    <tr>\n",
       "      <th>7</th>\n",
       "      <td>0.00</td>\n",
       "      <td>0.00</td>\n",
       "      <td>0.00</td>\n",
       "      <td>0.00</td>\n",
       "      <td>8</td>\n",
       "      <td>{'max_depth': 8}</td>\n",
       "      <td>0.82</td>\n",
       "      <td>0.81</td>\n",
       "      <td>0.85</td>\n",
       "      <td>0.82</td>\n",
       "      <td>0.76</td>\n",
       "      <td>0.82</td>\n",
       "      <td>0.85</td>\n",
       "      <td>0.72</td>\n",
       "      <td>0.84</td>\n",
       "      <td>0.79</td>\n",
       "      <td>0.81</td>\n",
       "      <td>0.04</td>\n",
       "      <td>7</td>\n",
       "    </tr>\n",
       "    <tr>\n",
       "      <th>8</th>\n",
       "      <td>0.00</td>\n",
       "      <td>0.00</td>\n",
       "      <td>0.00</td>\n",
       "      <td>0.00</td>\n",
       "      <td>9</td>\n",
       "      <td>{'max_depth': 9}</td>\n",
       "      <td>0.84</td>\n",
       "      <td>0.76</td>\n",
       "      <td>0.82</td>\n",
       "      <td>0.76</td>\n",
       "      <td>0.76</td>\n",
       "      <td>0.84</td>\n",
       "      <td>0.84</td>\n",
       "      <td>0.74</td>\n",
       "      <td>0.84</td>\n",
       "      <td>0.80</td>\n",
       "      <td>0.80</td>\n",
       "      <td>0.04</td>\n",
       "      <td>9</td>\n",
       "    </tr>\n",
       "    <tr>\n",
       "      <th>9</th>\n",
       "      <td>0.00</td>\n",
       "      <td>0.00</td>\n",
       "      <td>0.00</td>\n",
       "      <td>0.00</td>\n",
       "      <td>10</td>\n",
       "      <td>{'max_depth': 10}</td>\n",
       "      <td>0.82</td>\n",
       "      <td>0.77</td>\n",
       "      <td>0.82</td>\n",
       "      <td>0.76</td>\n",
       "      <td>0.76</td>\n",
       "      <td>0.79</td>\n",
       "      <td>0.84</td>\n",
       "      <td>0.74</td>\n",
       "      <td>0.84</td>\n",
       "      <td>0.79</td>\n",
       "      <td>0.79</td>\n",
       "      <td>0.03</td>\n",
       "      <td>14</td>\n",
       "    </tr>\n",
       "    <tr>\n",
       "      <th>10</th>\n",
       "      <td>0.00</td>\n",
       "      <td>0.00</td>\n",
       "      <td>0.00</td>\n",
       "      <td>0.00</td>\n",
       "      <td>11</td>\n",
       "      <td>{'max_depth': 11}</td>\n",
       "      <td>0.84</td>\n",
       "      <td>0.76</td>\n",
       "      <td>0.82</td>\n",
       "      <td>0.79</td>\n",
       "      <td>0.76</td>\n",
       "      <td>0.79</td>\n",
       "      <td>0.80</td>\n",
       "      <td>0.77</td>\n",
       "      <td>0.84</td>\n",
       "      <td>0.79</td>\n",
       "      <td>0.80</td>\n",
       "      <td>0.03</td>\n",
       "      <td>13</td>\n",
       "    </tr>\n",
       "    <tr>\n",
       "      <th>11</th>\n",
       "      <td>0.00</td>\n",
       "      <td>0.00</td>\n",
       "      <td>0.00</td>\n",
       "      <td>0.00</td>\n",
       "      <td>12</td>\n",
       "      <td>{'max_depth': 12}</td>\n",
       "      <td>0.84</td>\n",
       "      <td>0.74</td>\n",
       "      <td>0.79</td>\n",
       "      <td>0.82</td>\n",
       "      <td>0.76</td>\n",
       "      <td>0.80</td>\n",
       "      <td>0.80</td>\n",
       "      <td>0.79</td>\n",
       "      <td>0.84</td>\n",
       "      <td>0.80</td>\n",
       "      <td>0.80</td>\n",
       "      <td>0.03</td>\n",
       "      <td>10</td>\n",
       "    </tr>\n",
       "    <tr>\n",
       "      <th>12</th>\n",
       "      <td>0.00</td>\n",
       "      <td>0.00</td>\n",
       "      <td>0.00</td>\n",
       "      <td>0.00</td>\n",
       "      <td>13</td>\n",
       "      <td>{'max_depth': 13}</td>\n",
       "      <td>0.84</td>\n",
       "      <td>0.74</td>\n",
       "      <td>0.79</td>\n",
       "      <td>0.82</td>\n",
       "      <td>0.76</td>\n",
       "      <td>0.80</td>\n",
       "      <td>0.80</td>\n",
       "      <td>0.79</td>\n",
       "      <td>0.84</td>\n",
       "      <td>0.80</td>\n",
       "      <td>0.80</td>\n",
       "      <td>0.03</td>\n",
       "      <td>10</td>\n",
       "    </tr>\n",
       "    <tr>\n",
       "      <th>13</th>\n",
       "      <td>0.00</td>\n",
       "      <td>0.00</td>\n",
       "      <td>0.00</td>\n",
       "      <td>0.00</td>\n",
       "      <td>14</td>\n",
       "      <td>{'max_depth': 14}</td>\n",
       "      <td>0.84</td>\n",
       "      <td>0.74</td>\n",
       "      <td>0.79</td>\n",
       "      <td>0.82</td>\n",
       "      <td>0.76</td>\n",
       "      <td>0.80</td>\n",
       "      <td>0.80</td>\n",
       "      <td>0.79</td>\n",
       "      <td>0.84</td>\n",
       "      <td>0.80</td>\n",
       "      <td>0.80</td>\n",
       "      <td>0.03</td>\n",
       "      <td>10</td>\n",
       "    </tr>\n",
       "  </tbody>\n",
       "</table>\n",
       "</div>"
      ],
      "text/plain": [
       "    mean_fit_time  std_fit_time  mean_score_time  std_score_time  \\\n",
       "0            0.00          0.00             0.00            0.00   \n",
       "1            0.00          0.00             0.00            0.00   \n",
       "2            0.00          0.00             0.00            0.00   \n",
       "3            0.00          0.00             0.00            0.00   \n",
       "4            0.00          0.00             0.00            0.00   \n",
       "5            0.00          0.00             0.00            0.00   \n",
       "6            0.00          0.00             0.00            0.00   \n",
       "7            0.00          0.00             0.00            0.00   \n",
       "8            0.00          0.00             0.00            0.00   \n",
       "9            0.00          0.00             0.00            0.00   \n",
       "10           0.00          0.00             0.00            0.00   \n",
       "11           0.00          0.00             0.00            0.00   \n",
       "12           0.00          0.00             0.00            0.00   \n",
       "13           0.00          0.00             0.00            0.00   \n",
       "\n",
       "   param_max_depth             params  split0_test_score  split1_test_score  \\\n",
       "0                1   {'max_depth': 1}               0.87               0.81   \n",
       "1                2   {'max_depth': 2}               0.89               0.81   \n",
       "2                3   {'max_depth': 3}               0.87               0.81   \n",
       "3                4   {'max_depth': 4}               0.89               0.84   \n",
       "4                5   {'max_depth': 5}               0.84               0.84   \n",
       "5                6   {'max_depth': 6}               0.84               0.82   \n",
       "6                7   {'max_depth': 7}               0.84               0.79   \n",
       "7                8   {'max_depth': 8}               0.82               0.81   \n",
       "8                9   {'max_depth': 9}               0.84               0.76   \n",
       "9               10  {'max_depth': 10}               0.82               0.77   \n",
       "10              11  {'max_depth': 11}               0.84               0.76   \n",
       "11              12  {'max_depth': 12}               0.84               0.74   \n",
       "12              13  {'max_depth': 13}               0.84               0.74   \n",
       "13              14  {'max_depth': 14}               0.84               0.74   \n",
       "\n",
       "    split2_test_score  split3_test_score  split4_test_score  \\\n",
       "0                0.84               0.81               0.79   \n",
       "1                0.81               0.76               0.81   \n",
       "2                0.85               0.79               0.79   \n",
       "3                0.90               0.85               0.79   \n",
       "4                0.87               0.82               0.74   \n",
       "5                0.87               0.84               0.77   \n",
       "6                0.84               0.79               0.77   \n",
       "7                0.85               0.82               0.76   \n",
       "8                0.82               0.76               0.76   \n",
       "9                0.82               0.76               0.76   \n",
       "10               0.82               0.79               0.76   \n",
       "11               0.79               0.82               0.76   \n",
       "12               0.79               0.82               0.76   \n",
       "13               0.79               0.82               0.76   \n",
       "\n",
       "    split5_test_score  split6_test_score  split7_test_score  \\\n",
       "0                0.74               0.80               0.77   \n",
       "1                0.79               0.85               0.79   \n",
       "2                0.80               0.84               0.75   \n",
       "3                0.84               0.85               0.79   \n",
       "4                0.79               0.87               0.79   \n",
       "5                0.79               0.85               0.75   \n",
       "6                0.80               0.84               0.77   \n",
       "7                0.82               0.85               0.72   \n",
       "8                0.84               0.84               0.74   \n",
       "9                0.79               0.84               0.74   \n",
       "10               0.79               0.80               0.77   \n",
       "11               0.80               0.80               0.79   \n",
       "12               0.80               0.80               0.79   \n",
       "13               0.80               0.80               0.79   \n",
       "\n",
       "    split8_test_score  split9_test_score  mean_test_score  std_test_score  \\\n",
       "0                0.80               0.84             0.81            0.04   \n",
       "1                0.80               0.85             0.81            0.04   \n",
       "2                0.82               0.85             0.82            0.03   \n",
       "3                0.85               0.87             0.85            0.04   \n",
       "4                0.84               0.80             0.82            0.04   \n",
       "5                0.80               0.82             0.82            0.03   \n",
       "6                0.82               0.84             0.81            0.03   \n",
       "7                0.84               0.79             0.81            0.04   \n",
       "8                0.84               0.80             0.80            0.04   \n",
       "9                0.84               0.79             0.79            0.03   \n",
       "10               0.84               0.79             0.80            0.03   \n",
       "11               0.84               0.80             0.80            0.03   \n",
       "12               0.84               0.80             0.80            0.03   \n",
       "13               0.84               0.80             0.80            0.03   \n",
       "\n",
       "    rank_test_score  \n",
       "0                 8  \n",
       "1                 5  \n",
       "2                 3  \n",
       "3                 1  \n",
       "4                 2  \n",
       "5                 4  \n",
       "6                 6  \n",
       "7                 7  \n",
       "8                 9  \n",
       "9                14  \n",
       "10               13  \n",
       "11               10  \n",
       "12               10  \n",
       "13               10  "
      ]
     },
     "execution_count": 93,
     "metadata": {},
     "output_type": "execute_result"
    }
   ],
   "source": [
    "# scores of GridSearch CV\n",
    "scores = tree.cv_results_\n",
    "data = pd.DataFrame(scores)\n",
    "data"
   ]
  },
  {
   "cell_type": "code",
   "execution_count": 94,
   "id": "ef41d1a0",
   "metadata": {},
   "outputs": [
    {
     "data": {
      "text/html": [
       "<div>\n",
       "<style scoped>\n",
       "    .dataframe tbody tr th:only-of-type {\n",
       "        vertical-align: middle;\n",
       "    }\n",
       "\n",
       "    .dataframe tbody tr th {\n",
       "        vertical-align: top;\n",
       "    }\n",
       "\n",
       "    .dataframe thead th {\n",
       "        text-align: right;\n",
       "    }\n",
       "</style>\n",
       "<table border=\"1\" class=\"dataframe\">\n",
       "  <thead>\n",
       "    <tr style=\"text-align: right;\">\n",
       "      <th></th>\n",
       "      <th>param_max_depth</th>\n",
       "      <th>rank_test_score</th>\n",
       "      <th>mean_test_score</th>\n",
       "    </tr>\n",
       "  </thead>\n",
       "  <tbody>\n",
       "    <tr>\n",
       "      <th>0</th>\n",
       "      <td>1</td>\n",
       "      <td>8</td>\n",
       "      <td>0.81</td>\n",
       "    </tr>\n",
       "    <tr>\n",
       "      <th>1</th>\n",
       "      <td>2</td>\n",
       "      <td>5</td>\n",
       "      <td>0.81</td>\n",
       "    </tr>\n",
       "    <tr>\n",
       "      <th>2</th>\n",
       "      <td>3</td>\n",
       "      <td>3</td>\n",
       "      <td>0.82</td>\n",
       "    </tr>\n",
       "    <tr>\n",
       "      <th>3</th>\n",
       "      <td>4</td>\n",
       "      <td>1</td>\n",
       "      <td>0.85</td>\n",
       "    </tr>\n",
       "    <tr>\n",
       "      <th>4</th>\n",
       "      <td>5</td>\n",
       "      <td>2</td>\n",
       "      <td>0.82</td>\n",
       "    </tr>\n",
       "    <tr>\n",
       "      <th>5</th>\n",
       "      <td>6</td>\n",
       "      <td>4</td>\n",
       "      <td>0.82</td>\n",
       "    </tr>\n",
       "    <tr>\n",
       "      <th>6</th>\n",
       "      <td>7</td>\n",
       "      <td>6</td>\n",
       "      <td>0.81</td>\n",
       "    </tr>\n",
       "    <tr>\n",
       "      <th>7</th>\n",
       "      <td>8</td>\n",
       "      <td>7</td>\n",
       "      <td>0.81</td>\n",
       "    </tr>\n",
       "    <tr>\n",
       "      <th>8</th>\n",
       "      <td>9</td>\n",
       "      <td>9</td>\n",
       "      <td>0.80</td>\n",
       "    </tr>\n",
       "    <tr>\n",
       "      <th>9</th>\n",
       "      <td>10</td>\n",
       "      <td>14</td>\n",
       "      <td>0.79</td>\n",
       "    </tr>\n",
       "    <tr>\n",
       "      <th>10</th>\n",
       "      <td>11</td>\n",
       "      <td>13</td>\n",
       "      <td>0.80</td>\n",
       "    </tr>\n",
       "    <tr>\n",
       "      <th>11</th>\n",
       "      <td>12</td>\n",
       "      <td>10</td>\n",
       "      <td>0.80</td>\n",
       "    </tr>\n",
       "    <tr>\n",
       "      <th>12</th>\n",
       "      <td>13</td>\n",
       "      <td>10</td>\n",
       "      <td>0.80</td>\n",
       "    </tr>\n",
       "    <tr>\n",
       "      <th>13</th>\n",
       "      <td>14</td>\n",
       "      <td>10</td>\n",
       "      <td>0.80</td>\n",
       "    </tr>\n",
       "  </tbody>\n",
       "</table>\n",
       "</div>"
      ],
      "text/plain": [
       "   param_max_depth  rank_test_score  mean_test_score\n",
       "0                1                8             0.81\n",
       "1                2                5             0.81\n",
       "2                3                3             0.82\n",
       "3                4                1             0.85\n",
       "4                5                2             0.82\n",
       "5                6                4             0.82\n",
       "6                7                6             0.81\n",
       "7                8                7             0.81\n",
       "8                9                9             0.80\n",
       "9               10               14             0.79\n",
       "10              11               13             0.80\n",
       "11              12               10             0.80\n",
       "12              13               10             0.80\n",
       "13              14               10             0.80"
      ]
     },
     "execution_count": 94,
     "metadata": {},
     "output_type": "execute_result"
    }
   ],
   "source": [
    "data = data[['param_max_depth', 'rank_test_score','mean_test_score']]\n",
    "data"
   ]
  },
  {
   "cell_type": "code",
   "execution_count": 95,
   "id": "9961c2e0",
   "metadata": {},
   "outputs": [
    {
     "data": {
      "text/plain": [
       "<function matplotlib.pyplot.show(close=None, block=None)>"
      ]
     },
     "execution_count": 95,
     "metadata": {},
     "output_type": "execute_result"
    },
    {
     "data": {
      "image/png": "[encoded data removed]",
      "text/plain": [
       "<Figure size 1200x525 with 1 Axes>"
      ]
     },
     "metadata": {
      "needs_background": "light"
     },
     "output_type": "display_data"
    }
   ],
   "source": [
    "plt.figure(figsize=(8,3.5), dpi=150)\n",
    "\n",
    "for a, b in zip(data['param_max_depth'], data['mean_test_score']):\n",
    "    plt.text(a, b, '%.3f'%b, ha = 'center', va = 'bottom', fontsize = 10)\n",
    "    \n",
    "plt.plot(data['param_max_depth'], data['mean_test_score'], 'r')\n",
    "\n",
    "plt.xlabel(\"param_max_depth\")\n",
    "plt.ylabel(\"mean_test_score\")\n",
    "    \n",
    "plt.show"
   ]
  },
  {
   "cell_type": "code",
   "execution_count": 96,
   "id": "506508b2",
   "metadata": {},
   "outputs": [
    {
     "data": {
      "image/png": "[encoded data removed]",
      "text/plain": [
       "<Figure size 1080x576 with 2 Axes>"
      ]
     },
     "metadata": {
      "needs_background": "light"
     },
     "output_type": "display_data"
    }
   ],
   "source": [
    "data = data.pivot('param_max_depth', 'rank_test_score','mean_test_score')\n",
    "\n",
    "ax = sns.heatmap(data, annot=True, fmt='.2f',cmap = \"Blues\")"
   ]
  },
  {
   "cell_type": "code",
   "execution_count": 80,
   "id": "15c016b0",
   "metadata": {},
   "outputs": [
    {
     "name": "stdout",
     "output_type": "stream",
     "text": [
      "Accuracy of Decision Trees :  0.8448844884488449\n",
      "cv-10 average score is : 81.14 %\n",
      "--------------------------------------------------\n",
      "Rules are below : \n",
      "--------------------------------------------------\n",
      "|--- ST_Slope_Up <= 0.50\n",
      "|   |--- ChestPainType_ASY <= 0.50\n",
      "|   |   |--- Sex_F <= 0.50\n",
      "|   |   |   |--- class: 1\n",
      "|   |   |--- Sex_F >  0.50\n",
      "|   |   |   |--- class: 0\n",
      "|   |--- ChestPainType_ASY >  0.50\n",
      "|   |   |--- Sex_M <= 0.50\n",
      "|   |   |   |--- class: 1\n",
      "|   |   |--- Sex_M >  0.50\n",
      "|   |   |   |--- class: 1\n",
      "|--- ST_Slope_Up >  0.50\n",
      "|   |--- Cholesterol <= 42.50\n",
      "|   |   |--- Age <= 59.50\n",
      "|   |   |   |--- class: 1\n",
      "|   |   |--- Age >  59.50\n",
      "|   |   |   |--- class: 1\n",
      "|   |--- Cholesterol >  42.50\n",
      "|   |   |--- ChestPainType_ASY <= 0.50\n",
      "|   |   |   |--- class: 0\n",
      "|   |   |--- ChestPainType_ASY >  0.50\n",
      "|   |   |   |--- class: 0\n",
      "\n"
     ]
    }
   ],
   "source": [
    "# ***********************Decision Tree Classification***********************\n",
    "### entropy as criterion\n",
    "decTree = DecisionTreeClassifier(criterion='entropy',max_depth=3)\n",
    "pipe = make_pipeline(ct, decTree)\n",
    "pipe.fit(x_train, y_train)\n",
    "# print(pipe)\n",
    "\n",
    "y_pred_decTree = pipe.predict(x_test)\n",
    "print(\"Accuracy of Decision Trees : \" , metrics.accuracy_score(y_test, y_pred_decTree))\n",
    "\n",
    "scores = cross_val_score(pipe, x, y, cv=10)\n",
    "print('cv-10 average score is : {:.2f} %'.format(scores.mean()*100))\n",
    "\n",
    "#feature_names = pipe.named_steps['columntransformer'].transformers[0][1].get_feature_names(df[categorical].columns).tolist()+df[numerical].columns.tolist()\n",
    "feature_names = ct.get_feature_names_out().tolist()\n",
    "feature_names = [feature.split('__')[1] for feature in feature_names]\n",
    "\n",
    "print('-'*50)\n",
    "print('Rules are below : ')\n",
    "print('-'*50)\n",
    "text_representation = tree.export_text(decTree, feature_names=feature_names)\n",
    "print(text_representation)\n",
    "\n",
    "# print(tree.plot_tree(decTree))"
   ]
  },
  {
   "cell_type": "code",
   "execution_count": 107,
   "id": "0f964e8f",
   "metadata": {},
   "outputs": [
    {
     "data": {
      "text/plain": [
       "Pipeline(steps=[('columntransformer',\n",
       "                 ColumnTransformer(remainder='passthrough',\n",
       "                                   transformers=[('onehotencoder',\n",
       "                                                  OneHotEncoder(),\n",
       "                                                  Index(['Sex', 'ChestPainType', 'RestingECG', 'ExerciseAngina', 'ST_Slope'], dtype='object'))])),\n",
       "                ('gridsearchcv',\n",
       "                 GridSearchCV(cv=10,\n",
       "                              estimator=DecisionTreeClassifier(criterion='entropy',\n",
       "                                                               random_state=10),\n",
       "                              param_grid={'max_depth': range(1, 15)},\n",
       "                              scoring='accuracy'))])"
      ]
     },
     "execution_count": 107,
     "metadata": {},
     "output_type": "execute_result"
    }
   ],
   "source": [
    "# specify number of folds for k-fold CV\n",
    "n_folds = 10\n",
    "\n",
    "# parameters to build the model on\n",
    "parameters = {'max_depth': range(1, 15)}\n",
    "\n",
    "# instantiate the model\n",
    "dtree = DecisionTreeClassifier(criterion = \"entropy\", random_state = 10)\n",
    "\n",
    "# fit tree on training data\n",
    "tree = GridSearchCV(dtree, parameters, cv=n_folds, scoring=\"accuracy\")\n",
    "pipe = make_pipeline(ct, tree)\n",
    "pipe.fit(x_train, y_train)"
   ]
  },
  {
   "cell_type": "code",
   "execution_count": 108,
   "id": "cb485081",
   "metadata": {},
   "outputs": [
    {
     "data": {
      "text/plain": [
       "<function matplotlib.pyplot.show(close=None, block=None)>"
      ]
     },
     "execution_count": 108,
     "metadata": {},
     "output_type": "execute_result"
    },
    {
     "data": {
      "image/png": "[encoded data removed]",
      "text/plain": [
       "<Figure size 1200x525 with 1 Axes>"
      ]
     },
     "metadata": {
      "needs_background": "light"
     },
     "output_type": "display_data"
    }
   ],
   "source": [
    "# scores of GridSearch CV\n",
    "scores = tree.cv_results_\n",
    "data = pd.DataFrame(scores)\n",
    "plt.figure(figsize=(8,3.5), dpi=150)\n",
    "\n",
    "for a, b in zip(data['param_max_depth'], data['mean_test_score']):\n",
    "    plt.text(a, b, '%.3f'%b, ha = 'center', va = 'bottom', fontsize = 10)\n",
    "    \n",
    "plt.plot(data['param_max_depth'], data['mean_test_score'], 'r')\n",
    "\n",
    "plt.xlabel(\"param_max_depth\")\n",
    "plt.ylabel(\"mean_test_score\")\n",
    "    \n",
    "plt.show"
   ]
  },
  {
   "cell_type": "code",
   "execution_count": 109,
   "id": "a5bdfc28",
   "metadata": {},
   "outputs": [
    {
     "data": {
      "image/png": "[encoded data removed]",
      "text/plain": [
       "<Figure size 1080x576 with 2 Axes>"
      ]
     },
     "metadata": {
      "needs_background": "light"
     },
     "output_type": "display_data"
    }
   ],
   "source": [
    "data = data.pivot('param_max_depth', 'rank_test_score','mean_test_score')\n",
    "\n",
    "ax = sns.heatmap(data, annot=True, fmt='.2f',cmap = \"Blues\")"
   ]
  },
  {
   "cell_type": "markdown",
   "id": "44e8b5b7",
   "metadata": {},
   "source": [
    "# Ensemble Methods"
   ]
  },
  {
   "cell_type": "markdown",
   "id": "0b529507",
   "metadata": {},
   "source": [
    "## bagging"
   ]
  },
  {
   "cell_type": "markdown",
   "id": "68b2af1c",
   "metadata": {},
   "source": [
    "## random forest"
   ]
  },
  {
   "cell_type": "code",
   "execution_count": 81,
   "id": "c6d7705d",
   "metadata": {},
   "outputs": [
    {
     "name": "stdout",
     "output_type": "stream",
     "text": [
      "Accuracy of Random Forest Classifier ::  0.8811881188118812\n",
      "Feature: Sex_F, Score: 0.02220\n",
      "Feature: Sex_M, Score: 0.02235\n",
      "Feature: ChestPainType_ASY, Score: 0.08240\n",
      "Feature: ChestPainType_ATA, Score: 0.01952\n",
      "Feature: ChestPainType_NAP, Score: 0.01595\n",
      "Feature: ChestPainType_TA, Score: 0.00727\n",
      "Feature: RestingECG_LVH, Score: 0.01405\n",
      "Feature: RestingECG_Normal, Score: 0.01110\n",
      "Feature: RestingECG_ST, Score: 0.01059\n",
      "Feature: ExerciseAngina_N, Score: 0.04841\n",
      "Feature: ExerciseAngina_Y, Score: 0.05442\n",
      "Feature: ST_Slope_Down, Score: 0.00750\n",
      "Feature: ST_Slope_Flat, Score: 0.10657\n",
      "Feature: ST_Slope_Up, Score: 0.12515\n",
      "Feature: Age, Score: 0.07021\n",
      "Feature: RestingBP, Score: 0.06982\n",
      "Feature: Cholesterol, Score: 0.09753\n",
      "Feature: FastingBS, Score: 0.02317\n",
      "Feature: MaxHR, Score: 0.09740\n",
      "Feature: Oldpeak, Score: 0.09440\n",
      "####################################################################################################\n",
      "Cross Validate 10 fold: \n",
      "[0.92391304 0.93478261 0.80434783 0.88043478 0.85869565 0.84782609\n",
      " 0.89130435 0.80434783 0.8021978  0.8021978 ]\n",
      "cv-10 average score is : 85.50 %\n",
      "####################################################################################################\n"
     ]
    }
   ],
   "source": [
    "rf = RandomForestClassifier(n_estimators=1000)\n",
    "pipe = make_pipeline(ct, rf) \n",
    "pipe.fit(x_train,y_train)\n",
    "y_pred_rf = pipe.predict(x_test)\n",
    "print(\"Accuracy of Random Forest Classifier :: \", metrics.accuracy_score(y_test, y_pred_rf))\n",
    "#Find the score of each feature in model and drop the features with low scores\n",
    "f_imp = pipe['randomforestclassifier'].feature_importances_\n",
    "for i,v in enumerate(f_imp):\n",
    "    print('Feature: %s, Score: %.5f' % (feature_names[i],v))\n",
    "\n",
    "    #  10 fold cross validation\n",
    "print('#'*100)\n",
    "print('Cross Validate 10 fold: ')\n",
    "scores = cross_val_score(pipe, x, y, cv=10)\n",
    "print(scores)\n",
    "print('cv-10 average score is : {:.2f} %'.format(scores.mean()*100))\n",
    "print('#'*100)"
   ]
  },
  {
   "cell_type": "code",
   "execution_count": null,
   "id": "ea50c5ae",
   "metadata": {},
   "outputs": [],
   "source": []
  },
  {
   "cell_type": "markdown",
   "id": "428a0435",
   "metadata": {},
   "source": [
    "## boosting"
   ]
  },
  {
   "cell_type": "markdown",
   "id": "f1cf6664",
   "metadata": {},
   "source": [
    "## XGBoost"
   ]
  },
  {
   "cell_type": "code",
   "execution_count": 82,
   "id": "4fb8aa94",
   "metadata": {},
   "outputs": [
    {
     "name": "stdout",
     "output_type": "stream",
     "text": [
      "[21:06:29] WARNING: ..\\src\\learner.cc:1115: Starting in XGBoost 1.3.0, the default evaluation metric used with the objective 'binary:logistic' was changed from 'error' to 'logloss'. Explicitly set eval_metric if you'd like to restore the old behavior.\n",
      "Accuracy of XGBoost Classifier :  0.8514851485148515\n",
      "[21:06:29] WARNING: ..\\src\\learner.cc:1115: Starting in XGBoost 1.3.0, the default evaluation metric used with the objective 'binary:logistic' was changed from 'error' to 'logloss'. Explicitly set eval_metric if you'd like to restore the old behavior.\n"
     ]
    },
    {
     "name": "stderr",
     "output_type": "stream",
     "text": [
      "C:\\Users\\WithoutSounded\\anaconda3\\lib\\site-packages\\xgboost\\sklearn.py:1224: UserWarning: The use of label encoder in XGBClassifier is deprecated and will be removed in a future release. To remove this warning, do the following: 1) Pass option use_label_encoder=False when constructing XGBClassifier object; and 2) Encode your labels (y) as integers starting with 0, i.e. 0, 1, 2, ..., [num_class - 1].\n",
      "  warnings.warn(label_encoder_deprecation_msg, UserWarning)\n",
      "C:\\Users\\WithoutSounded\\anaconda3\\lib\\site-packages\\xgboost\\sklearn.py:1224: UserWarning: The use of label encoder in XGBClassifier is deprecated and will be removed in a future release. To remove this warning, do the following: 1) Pass option use_label_encoder=False when constructing XGBClassifier object; and 2) Encode your labels (y) as integers starting with 0, i.e. 0, 1, 2, ..., [num_class - 1].\n",
      "  warnings.warn(label_encoder_deprecation_msg, UserWarning)\n",
      "C:\\Users\\WithoutSounded\\anaconda3\\lib\\site-packages\\xgboost\\sklearn.py:1224: UserWarning: The use of label encoder in XGBClassifier is deprecated and will be removed in a future release. To remove this warning, do the following: 1) Pass option use_label_encoder=False when constructing XGBClassifier object; and 2) Encode your labels (y) as integers starting with 0, i.e. 0, 1, 2, ..., [num_class - 1].\n",
      "  warnings.warn(label_encoder_deprecation_msg, UserWarning)\n"
     ]
    },
    {
     "name": "stdout",
     "output_type": "stream",
     "text": [
      "[21:06:29] WARNING: ..\\src\\learner.cc:1115: Starting in XGBoost 1.3.0, the default evaluation metric used with the objective 'binary:logistic' was changed from 'error' to 'logloss'. Explicitly set eval_metric if you'd like to restore the old behavior.\n",
      "[21:06:29] WARNING: ..\\src\\learner.cc:1115: Starting in XGBoost 1.3.0, the default evaluation metric used with the objective 'binary:logistic' was changed from 'error' to 'logloss'. Explicitly set eval_metric if you'd like to restore the old behavior.\n",
      "[21:06:29] WARNING: ..\\src\\learner.cc:1115: Starting in XGBoost 1.3.0, the default evaluation metric used with the objective 'binary:logistic' was changed from 'error' to 'logloss'. Explicitly set eval_metric if you'd like to restore the old behavior.\n"
     ]
    },
    {
     "name": "stderr",
     "output_type": "stream",
     "text": [
      "C:\\Users\\WithoutSounded\\anaconda3\\lib\\site-packages\\xgboost\\sklearn.py:1224: UserWarning: The use of label encoder in XGBClassifier is deprecated and will be removed in a future release. To remove this warning, do the following: 1) Pass option use_label_encoder=False when constructing XGBClassifier object; and 2) Encode your labels (y) as integers starting with 0, i.e. 0, 1, 2, ..., [num_class - 1].\n",
      "  warnings.warn(label_encoder_deprecation_msg, UserWarning)\n",
      "C:\\Users\\WithoutSounded\\anaconda3\\lib\\site-packages\\xgboost\\sklearn.py:1224: UserWarning: The use of label encoder in XGBClassifier is deprecated and will be removed in a future release. To remove this warning, do the following: 1) Pass option use_label_encoder=False when constructing XGBClassifier object; and 2) Encode your labels (y) as integers starting with 0, i.e. 0, 1, 2, ..., [num_class - 1].\n",
      "  warnings.warn(label_encoder_deprecation_msg, UserWarning)\n",
      "C:\\Users\\WithoutSounded\\anaconda3\\lib\\site-packages\\xgboost\\sklearn.py:1224: UserWarning: The use of label encoder in XGBClassifier is deprecated and will be removed in a future release. To remove this warning, do the following: 1) Pass option use_label_encoder=False when constructing XGBClassifier object; and 2) Encode your labels (y) as integers starting with 0, i.e. 0, 1, 2, ..., [num_class - 1].\n",
      "  warnings.warn(label_encoder_deprecation_msg, UserWarning)\n"
     ]
    },
    {
     "name": "stdout",
     "output_type": "stream",
     "text": [
      "[21:06:29] WARNING: ..\\src\\learner.cc:1115: Starting in XGBoost 1.3.0, the default evaluation metric used with the objective 'binary:logistic' was changed from 'error' to 'logloss'. Explicitly set eval_metric if you'd like to restore the old behavior.\n",
      "[21:06:29] WARNING: ..\\src\\learner.cc:1115: Starting in XGBoost 1.3.0, the default evaluation metric used with the objective 'binary:logistic' was changed from 'error' to 'logloss'. Explicitly set eval_metric if you'd like to restore the old behavior.\n",
      "[21:06:29] WARNING: ..\\src\\learner.cc:1115: Starting in XGBoost 1.3.0, the default evaluation metric used with the objective 'binary:logistic' was changed from 'error' to 'logloss'. Explicitly set eval_metric if you'd like to restore the old behavior.\n"
     ]
    },
    {
     "name": "stderr",
     "output_type": "stream",
     "text": [
      "C:\\Users\\WithoutSounded\\anaconda3\\lib\\site-packages\\xgboost\\sklearn.py:1224: UserWarning: The use of label encoder in XGBClassifier is deprecated and will be removed in a future release. To remove this warning, do the following: 1) Pass option use_label_encoder=False when constructing XGBClassifier object; and 2) Encode your labels (y) as integers starting with 0, i.e. 0, 1, 2, ..., [num_class - 1].\n",
      "  warnings.warn(label_encoder_deprecation_msg, UserWarning)\n",
      "C:\\Users\\WithoutSounded\\anaconda3\\lib\\site-packages\\xgboost\\sklearn.py:1224: UserWarning: The use of label encoder in XGBClassifier is deprecated and will be removed in a future release. To remove this warning, do the following: 1) Pass option use_label_encoder=False when constructing XGBClassifier object; and 2) Encode your labels (y) as integers starting with 0, i.e. 0, 1, 2, ..., [num_class - 1].\n",
      "  warnings.warn(label_encoder_deprecation_msg, UserWarning)\n",
      "C:\\Users\\WithoutSounded\\anaconda3\\lib\\site-packages\\xgboost\\sklearn.py:1224: UserWarning: The use of label encoder in XGBClassifier is deprecated and will be removed in a future release. To remove this warning, do the following: 1) Pass option use_label_encoder=False when constructing XGBClassifier object; and 2) Encode your labels (y) as integers starting with 0, i.e. 0, 1, 2, ..., [num_class - 1].\n",
      "  warnings.warn(label_encoder_deprecation_msg, UserWarning)\n"
     ]
    },
    {
     "name": "stdout",
     "output_type": "stream",
     "text": [
      "[21:06:29] WARNING: ..\\src\\learner.cc:1115: Starting in XGBoost 1.3.0, the default evaluation metric used with the objective 'binary:logistic' was changed from 'error' to 'logloss'. Explicitly set eval_metric if you'd like to restore the old behavior.\n",
      "[21:06:30] WARNING: ..\\src\\learner.cc:1115: Starting in XGBoost 1.3.0, the default evaluation metric used with the objective 'binary:logistic' was changed from 'error' to 'logloss'. Explicitly set eval_metric if you'd like to restore the old behavior.\n",
      "[21:06:30] WARNING: ..\\src\\learner.cc:1115: Starting in XGBoost 1.3.0, the default evaluation metric used with the objective 'binary:logistic' was changed from 'error' to 'logloss'. Explicitly set eval_metric if you'd like to restore the old behavior.\n"
     ]
    },
    {
     "name": "stderr",
     "output_type": "stream",
     "text": [
      "C:\\Users\\WithoutSounded\\anaconda3\\lib\\site-packages\\xgboost\\sklearn.py:1224: UserWarning: The use of label encoder in XGBClassifier is deprecated and will be removed in a future release. To remove this warning, do the following: 1) Pass option use_label_encoder=False when constructing XGBClassifier object; and 2) Encode your labels (y) as integers starting with 0, i.e. 0, 1, 2, ..., [num_class - 1].\n",
      "  warnings.warn(label_encoder_deprecation_msg, UserWarning)\n",
      "C:\\Users\\WithoutSounded\\anaconda3\\lib\\site-packages\\xgboost\\sklearn.py:1224: UserWarning: The use of label encoder in XGBClassifier is deprecated and will be removed in a future release. To remove this warning, do the following: 1) Pass option use_label_encoder=False when constructing XGBClassifier object; and 2) Encode your labels (y) as integers starting with 0, i.e. 0, 1, 2, ..., [num_class - 1].\n",
      "  warnings.warn(label_encoder_deprecation_msg, UserWarning)\n"
     ]
    }
   ],
   "source": [
    "# 建立 XGBClassifier 模型\n",
    "xgboostModel = XGBClassifier(n_estimators=100, learning_rate= 0.3)\n",
    "pipe = make_pipeline(ct, xgboostModel)\n",
    "# 使用訓練資料訓練模型\n",
    "pipe.fit(x_train, y_train)\n",
    "# 使用訓練資料預測分類\n",
    "predicted = pipe.predict(x_test)\n",
    "print(\"Accuracy of XGBoost Classifier : \", metrics.accuracy_score(y_test, predicted))\n",
    "scores = cross_val_score(pipe, x, y, cv=10)"
   ]
  },
  {
   "cell_type": "code",
   "execution_count": 83,
   "id": "4386263c",
   "metadata": {},
   "outputs": [
    {
     "name": "stdout",
     "output_type": "stream",
     "text": [
      "[0.86956522 0.93478261 0.83695652 0.90217391 0.83695652 0.85869565\n",
      " 0.86956522 0.76086957 0.81318681 0.75824176]\n",
      "cv-10 average score is : 84.41 %\n"
     ]
    }
   ],
   "source": [
    "print(scores)\n",
    "print('cv-10 average score is : {:.2f} %'.format(scores.mean()*100))"
   ]
  },
  {
   "cell_type": "code",
   "execution_count": null,
   "id": "405e47a3",
   "metadata": {},
   "outputs": [],
   "source": []
  },
  {
   "cell_type": "markdown",
   "id": "ebf48698",
   "metadata": {},
   "source": [
    "## Adaboost"
   ]
  },
  {
   "cell_type": "code",
   "execution_count": 84,
   "id": "3b4944e6",
   "metadata": {},
   "outputs": [
    {
     "name": "stdout",
     "output_type": "stream",
     "text": [
      "[0.7953795379537953, 0.8052805280528053, 0.7953795379537953, 0.7986798679867987, 0.7953795379537953]\n",
      "[0.86956522 0.90217391 0.84782609 0.7826087  0.79347826 0.81521739\n",
      " 0.81521739 0.76086957 0.72527473 0.82417582]\n",
      "cv-10 average score is : 81.36 %\n"
     ]
    }
   ],
   "source": [
    "# adaboost with the tree as base estimator\n",
    "\n",
    "estimators = list(range(20,25))\n",
    "shallow_tree = DecisionTreeClassifier(max_depth=3, random_state = 100)\n",
    "\n",
    "abc_scores = []\n",
    "for n_est in estimators:\n",
    "    ABC = AdaBoostClassifier(\n",
    "    base_estimator=shallow_tree, \n",
    "    n_estimators = n_est)\n",
    "    \n",
    "    pipe = make_pipeline(ct, ABC)\n",
    "    \n",
    "    \n",
    "    pipe.fit(x_train, y_train)\n",
    "    y_pred = pipe.predict(x_test)\n",
    "    score = metrics.accuracy_score(y_test, y_pred)\n",
    "    abc_scores.append(score)\n",
    "print(abc_scores)\n",
    "\n",
    "# estimators 21 has the best result\n",
    "ABC = AdaBoostClassifier(base_estimator=shallow_tree, n_estimators = 21)\n",
    "pipe = make_pipeline(ct, ABC)\n",
    "pipe.fit(x_train, y_train)\n",
    "scores = cross_val_score(pipe, x, y, cv=10)\n",
    "print(scores)\n",
    "print('cv-10 average score is : {:.2f} %'.format(scores.mean()*100))"
   ]
  },
  {
   "cell_type": "code",
   "execution_count": null,
   "id": "0867882a",
   "metadata": {},
   "outputs": [],
   "source": []
  },
  {
   "cell_type": "markdown",
   "id": "2fc1e16b",
   "metadata": {},
   "source": [
    "## Catboost"
   ]
  },
  {
   "cell_type": "code",
   "execution_count": 85,
   "id": "a713b378",
   "metadata": {},
   "outputs": [
    {
     "name": "stdout",
     "output_type": "stream",
     "text": [
      "[0.88043478 0.9673913  0.84782609 0.89130435 0.85869565 0.86956522\n",
      " 0.90217391 0.7826087  0.79120879 0.83516484]\n",
      "cv-10 average score is : 86.26 %\n"
     ]
    }
   ],
   "source": [
    "from catboost import CatBoostRegressor\n",
    "\n",
    "# 建立模型\n",
    "model = CatBoostClassifier(verbose=False, random_state=0)\n",
    "\n",
    "# 使用訓練資料訓練模型\n",
    "pipe = make_pipeline(ct, model)\n",
    "pipe.fit(x_train, y_train)\n",
    "y_pred = pipe.predict(x_test)\n",
    "score = metrics.accuracy_score(y_test, y_pred)\n",
    "scores = cross_val_score(pipe, x, y, cv=10)\n",
    "print(scores)\n",
    "print('cv-10 average score is : {:.2f} %'.format(scores.mean()*100))\n"
   ]
  },
  {
   "cell_type": "code",
   "execution_count": 86,
   "id": "9d7bc0ba",
   "metadata": {},
   "outputs": [],
   "source": [
    "d={\n",
    "'[required] desision tree using gini index':78.2,\n",
    "'[required] desision tree using entropy':79.95,\n",
    "'[Baseline] Dummy': 44.66,\n",
    "'Logistic Regression' : 85.27,\n",
    "'Linear Discriminant' : 84.73,\n",
    "'SVC' : 70.57,\n",
    "'KNN' : 70.24,\n",
    "'Logistic Regression with scaler': 85.16,\n",
    "'Linear Discriminant with scaler': 84.73,\n",
    "'SVC with scaler': 86.26,\n",
    "'KNN with scaler': 85.49,\n",
    "'Bayes (Gaussian)': 85.18,\n",
    "'Bayes (Bernoulli)': 85.28,\n",
    "'Random Forest': 85.49,\n",
    "'adaboost': 81.58,\n",
    "'xgboost': 84.41,\n",
    "'catboost': 86.26\n",
    "}"
   ]
  },
  {
   "cell_type": "code",
   "execution_count": 87,
   "id": "1afe6de0",
   "metadata": {},
   "outputs": [],
   "source": [
    "df = pd.DataFrame(data=d, index=['Accuracy'])"
   ]
  },
  {
   "cell_type": "code",
   "execution_count": 88,
   "id": "ddc374a7",
   "metadata": {},
   "outputs": [],
   "source": [
    "a = df.T.sort_values(by='Accuracy', ascending=False)"
   ]
  },
  {
   "cell_type": "code",
   "execution_count": 89,
   "id": "d2969284",
   "metadata": {},
   "outputs": [
    {
     "data": {
      "text/html": [
       "<div>\n",
       "<style scoped>\n",
       "    .dataframe tbody tr th:only-of-type {\n",
       "        vertical-align: middle;\n",
       "    }\n",
       "\n",
       "    .dataframe tbody tr th {\n",
       "        vertical-align: top;\n",
       "    }\n",
       "\n",
       "    .dataframe thead th {\n",
       "        text-align: right;\n",
       "    }\n",
       "</style>\n",
       "<table border=\"1\" class=\"dataframe\">\n",
       "  <thead>\n",
       "    <tr style=\"text-align: right;\">\n",
       "      <th></th>\n",
       "      <th>Accuracy</th>\n",
       "    </tr>\n",
       "  </thead>\n",
       "  <tbody>\n",
       "    <tr>\n",
       "      <th>catboost</th>\n",
       "      <td>86.26</td>\n",
       "    </tr>\n",
       "    <tr>\n",
       "      <th>SVC with scaler</th>\n",
       "      <td>86.26</td>\n",
       "    </tr>\n",
       "    <tr>\n",
       "      <th>Random Forest</th>\n",
       "      <td>85.49</td>\n",
       "    </tr>\n",
       "    <tr>\n",
       "      <th>KNN with scaler</th>\n",
       "      <td>85.49</td>\n",
       "    </tr>\n",
       "    <tr>\n",
       "      <th>Bayes (Bernoulli)</th>\n",
       "      <td>85.28</td>\n",
       "    </tr>\n",
       "    <tr>\n",
       "      <th>Logistic Regression</th>\n",
       "      <td>85.27</td>\n",
       "    </tr>\n",
       "    <tr>\n",
       "      <th>Bayes (Gaussian)</th>\n",
       "      <td>85.18</td>\n",
       "    </tr>\n",
       "    <tr>\n",
       "      <th>Logistic Regression with scaler</th>\n",
       "      <td>85.16</td>\n",
       "    </tr>\n",
       "    <tr>\n",
       "      <th>Linear Discriminant with scaler</th>\n",
       "      <td>84.73</td>\n",
       "    </tr>\n",
       "    <tr>\n",
       "      <th>Linear Discriminant</th>\n",
       "      <td>84.73</td>\n",
       "    </tr>\n",
       "    <tr>\n",
       "      <th>xgboost</th>\n",
       "      <td>84.41</td>\n",
       "    </tr>\n",
       "    <tr>\n",
       "      <th>adaboost</th>\n",
       "      <td>81.58</td>\n",
       "    </tr>\n",
       "    <tr>\n",
       "      <th>[required] desision tree using entropy</th>\n",
       "      <td>79.95</td>\n",
       "    </tr>\n",
       "    <tr>\n",
       "      <th>[required] desision tree using gini index</th>\n",
       "      <td>78.20</td>\n",
       "    </tr>\n",
       "    <tr>\n",
       "      <th>SVC</th>\n",
       "      <td>70.57</td>\n",
       "    </tr>\n",
       "    <tr>\n",
       "      <th>KNN</th>\n",
       "      <td>70.24</td>\n",
       "    </tr>\n",
       "    <tr>\n",
       "      <th>[Baseline] Dummy</th>\n",
       "      <td>44.66</td>\n",
       "    </tr>\n",
       "  </tbody>\n",
       "</table>\n",
       "</div>"
      ],
      "text/plain": [
       "                                           Accuracy\n",
       "catboost                                      86.26\n",
       "SVC with scaler                               86.26\n",
       "Random Forest                                 85.49\n",
       "KNN with scaler                               85.49\n",
       "Bayes (Bernoulli)                             85.28\n",
       "Logistic Regression                           85.27\n",
       "Bayes (Gaussian)                              85.18\n",
       "Logistic Regression with scaler               85.16\n",
       "Linear Discriminant with scaler               84.73\n",
       "Linear Discriminant                           84.73\n",
       "xgboost                                       84.41\n",
       "adaboost                                      81.58\n",
       "[required] desision tree using entropy        79.95\n",
       "[required] desision tree using gini index     78.20\n",
       "SVC                                           70.57\n",
       "KNN                                           70.24\n",
       "[Baseline] Dummy                              44.66"
      ]
     },
     "execution_count": 89,
     "metadata": {},
     "output_type": "execute_result"
    }
   ],
   "source": [
    "a"
   ]
  },
  {
   "cell_type": "code",
   "execution_count": null,
   "id": "abfcff6f",
   "metadata": {},
   "outputs": [],
   "source": []
  }
 ],
 "metadata": {
  "kernelspec": {
   "display_name": "Python 3 (ipykernel)",
   "language": "python",
   "name": "python3"
  },
  "language_info": {
   "codemirror_mode": {
    "name": "ipython",
    "version": 3
   },
   "file_extension": ".py",
   "mimetype": "text/x-python",
   "name": "python",
   "nbconvert_exporter": "python",
   "pygments_lexer": "ipython3",
   "version": "3.9.7"
  }
 },
 "nbformat": 4,
 "nbformat_minor": 5
}
