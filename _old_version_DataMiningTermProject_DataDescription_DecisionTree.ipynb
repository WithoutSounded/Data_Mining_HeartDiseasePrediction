{
 "cells": [
  {
   "cell_type": "code",
   "execution_count": 1,
   "metadata": {},
   "outputs": [],
   "source": [
    "# library for data description and viz.\n",
    "import numpy as np\n",
    "import pandas as pd\n",
    "import matplotlib.pyplot as plt"
   ]
  },
  {
   "cell_type": "code",
   "execution_count": 2,
   "metadata": {},
   "outputs": [],
   "source": [
    "# library for preprocessing, model, pipeline and Decision Tree\n",
    "from sklearn.preprocessing import OneHotEncoder,StandardScaler,PowerTransformer\n",
    "\n",
    "from sklearn.model_selection import train_test_split, cross_val_score, cross_val_predict\n",
    "\n",
    "from sklearn.pipeline import make_pipeline\n",
    "from sklearn.pipeline import Pipeline\n",
    "from sklearn.compose import make_column_transformer\n",
    "from sklearn import metrics\n",
    "\n",
    "from sklearn import tree\n",
    "from sklearn.tree import DecisionTreeClassifier"
   ]
  },
  {
   "cell_type": "markdown",
   "metadata": {},
   "source": [
    "# data import and take a glance"
   ]
  },
  {
   "cell_type": "code",
   "execution_count": 3,
   "metadata": {},
   "outputs": [
    {
     "data": {
      "text/html": [
       "<div>\n",
       "<style scoped>\n",
       "    .dataframe tbody tr th:only-of-type {\n",
       "        vertical-align: middle;\n",
       "    }\n",
       "\n",
       "    .dataframe tbody tr th {\n",
       "        vertical-align: top;\n",
       "    }\n",
       "\n",
       "    .dataframe thead th {\n",
       "        text-align: right;\n",
       "    }\n",
       "</style>\n",
       "<table border=\"1\" class=\"dataframe\">\n",
       "  <thead>\n",
       "    <tr style=\"text-align: right;\">\n",
       "      <th></th>\n",
       "      <th>Age</th>\n",
       "      <th>Sex</th>\n",
       "      <th>ChestPainType</th>\n",
       "      <th>RestingBP</th>\n",
       "      <th>Cholesterol</th>\n",
       "      <th>FastingBS</th>\n",
       "      <th>RestingECG</th>\n",
       "      <th>MaxHR</th>\n",
       "      <th>ExerciseAngina</th>\n",
       "      <th>Oldpeak</th>\n",
       "      <th>ST_Slope</th>\n",
       "      <th>HeartDisease</th>\n",
       "    </tr>\n",
       "  </thead>\n",
       "  <tbody>\n",
       "    <tr>\n",
       "      <th>0</th>\n",
       "      <td>40</td>\n",
       "      <td>M</td>\n",
       "      <td>ATA</td>\n",
       "      <td>140</td>\n",
       "      <td>289</td>\n",
       "      <td>0</td>\n",
       "      <td>Normal</td>\n",
       "      <td>172</td>\n",
       "      <td>N</td>\n",
       "      <td>0.0</td>\n",
       "      <td>Up</td>\n",
       "      <td>0</td>\n",
       "    </tr>\n",
       "    <tr>\n",
       "      <th>1</th>\n",
       "      <td>49</td>\n",
       "      <td>F</td>\n",
       "      <td>NAP</td>\n",
       "      <td>160</td>\n",
       "      <td>180</td>\n",
       "      <td>0</td>\n",
       "      <td>Normal</td>\n",
       "      <td>156</td>\n",
       "      <td>N</td>\n",
       "      <td>1.0</td>\n",
       "      <td>Flat</td>\n",
       "      <td>1</td>\n",
       "    </tr>\n",
       "    <tr>\n",
       "      <th>2</th>\n",
       "      <td>37</td>\n",
       "      <td>M</td>\n",
       "      <td>ATA</td>\n",
       "      <td>130</td>\n",
       "      <td>283</td>\n",
       "      <td>0</td>\n",
       "      <td>ST</td>\n",
       "      <td>98</td>\n",
       "      <td>N</td>\n",
       "      <td>0.0</td>\n",
       "      <td>Up</td>\n",
       "      <td>0</td>\n",
       "    </tr>\n",
       "    <tr>\n",
       "      <th>3</th>\n",
       "      <td>48</td>\n",
       "      <td>F</td>\n",
       "      <td>ASY</td>\n",
       "      <td>138</td>\n",
       "      <td>214</td>\n",
       "      <td>0</td>\n",
       "      <td>Normal</td>\n",
       "      <td>108</td>\n",
       "      <td>Y</td>\n",
       "      <td>1.5</td>\n",
       "      <td>Flat</td>\n",
       "      <td>1</td>\n",
       "    </tr>\n",
       "    <tr>\n",
       "      <th>4</th>\n",
       "      <td>54</td>\n",
       "      <td>M</td>\n",
       "      <td>NAP</td>\n",
       "      <td>150</td>\n",
       "      <td>195</td>\n",
       "      <td>0</td>\n",
       "      <td>Normal</td>\n",
       "      <td>122</td>\n",
       "      <td>N</td>\n",
       "      <td>0.0</td>\n",
       "      <td>Up</td>\n",
       "      <td>0</td>\n",
       "    </tr>\n",
       "  </tbody>\n",
       "</table>\n",
       "</div>"
      ],
      "text/plain": [
       "   Age Sex ChestPainType  RestingBP  Cholesterol  FastingBS RestingECG  MaxHR  \\\n",
       "0   40   M           ATA        140          289          0     Normal    172   \n",
       "1   49   F           NAP        160          180          0     Normal    156   \n",
       "2   37   M           ATA        130          283          0         ST     98   \n",
       "3   48   F           ASY        138          214          0     Normal    108   \n",
       "4   54   M           NAP        150          195          0     Normal    122   \n",
       "\n",
       "  ExerciseAngina  Oldpeak ST_Slope  HeartDisease  \n",
       "0              N      0.0       Up             0  \n",
       "1              N      1.0     Flat             1  \n",
       "2              N      0.0       Up             0  \n",
       "3              Y      1.5     Flat             1  \n",
       "4              N      0.0       Up             0  "
      ]
     },
     "execution_count": 3,
     "metadata": {},
     "output_type": "execute_result"
    }
   ],
   "source": [
    "df = pd.read_csv('./heart.csv')\n",
    "df.head()"
   ]
  },
  {
   "cell_type": "code",
   "execution_count": 4,
   "metadata": {},
   "outputs": [
    {
     "name": "stdout",
     "output_type": "stream",
     "text": [
      "<class 'pandas.core.frame.DataFrame'>\n",
      "RangeIndex: 918 entries, 0 to 917\n",
      "Data columns (total 12 columns):\n",
      " #   Column          Non-Null Count  Dtype  \n",
      "---  ------          --------------  -----  \n",
      " 0   Age             918 non-null    int64  \n",
      " 1   Sex             918 non-null    object \n",
      " 2   ChestPainType   918 non-null    object \n",
      " 3   RestingBP       918 non-null    int64  \n",
      " 4   Cholesterol     918 non-null    int64  \n",
      " 5   FastingBS       918 non-null    int64  \n",
      " 6   RestingECG      918 non-null    object \n",
      " 7   MaxHR           918 non-null    int64  \n",
      " 8   ExerciseAngina  918 non-null    object \n",
      " 9   Oldpeak         918 non-null    float64\n",
      " 10  ST_Slope        918 non-null    object \n",
      " 11  HeartDisease    918 non-null    int64  \n",
      "dtypes: float64(1), int64(6), object(5)\n",
      "memory usage: 86.2+ KB\n"
     ]
    }
   ],
   "source": [
    "# checking data integrity\n",
    "df.info()"
   ]
  },
  {
   "cell_type": "code",
   "execution_count": 5,
   "metadata": {},
   "outputs": [
    {
     "data": {
      "image/png": "[encoded data removed]",
      "text/plain": [
       "<Figure size 432x288 with 1 Axes>"
      ]
     },
     "metadata": {
      "needs_background": "light"
     },
     "output_type": "display_data"
    },
    {
     "name": "stdout",
     "output_type": "stream",
     "text": [
      "total Heart Disease result\n",
      "1    508\n",
      "0    410\n",
      "Name: HeartDisease, dtype: int64\n",
      "Percentage of patient do have Heart Disease: 0.553377 \n",
      "Percentage of patient DON'T have Heart Disease: 0.446623 \n"
     ]
    }
   ],
   "source": [
    "# checking whether data skewed or not\n",
    "plt.bar([0,1],[df.HeartDisease.value_counts()[0],df.HeartDisease.value_counts()[1]], color='brown')\n",
    "plt.xticks([0,1], [0,1])\n",
    "plt.show()\n",
    "\n",
    "print('total Heart Disease result')\n",
    "print(df.HeartDisease.value_counts())\n",
    "print('Percentage of patient do have Heart Disease: %f '%(df.HeartDisease.value_counts()[1]/df.HeartDisease.value_counts().sum()))\n",
    "print('Percentage of patient DON\\'T have Heart Disease: %f '%(df.HeartDisease.value_counts()[0]/df.HeartDisease.value_counts().sum()))"
   ]
  },
  {
   "cell_type": "code",
   "execution_count": 6,
   "metadata": {},
   "outputs": [
    {
     "data": {
      "text/html": [
       "<div>\n",
       "<style scoped>\n",
       "    .dataframe tbody tr th:only-of-type {\n",
       "        vertical-align: middle;\n",
       "    }\n",
       "\n",
       "    .dataframe tbody tr th {\n",
       "        vertical-align: top;\n",
       "    }\n",
       "\n",
       "    .dataframe thead th {\n",
       "        text-align: right;\n",
       "    }\n",
       "</style>\n",
       "<table border=\"1\" class=\"dataframe\">\n",
       "  <thead>\n",
       "    <tr style=\"text-align: right;\">\n",
       "      <th></th>\n",
       "      <th>Age</th>\n",
       "      <th>RestingBP</th>\n",
       "      <th>Cholesterol</th>\n",
       "      <th>FastingBS</th>\n",
       "      <th>MaxHR</th>\n",
       "      <th>Oldpeak</th>\n",
       "      <th>HeartDisease</th>\n",
       "    </tr>\n",
       "  </thead>\n",
       "  <tbody>\n",
       "    <tr>\n",
       "      <th>count</th>\n",
       "      <td>918.00</td>\n",
       "      <td>918.00</td>\n",
       "      <td>918.00</td>\n",
       "      <td>918.00</td>\n",
       "      <td>918.00</td>\n",
       "      <td>918.00</td>\n",
       "      <td>918.00</td>\n",
       "    </tr>\n",
       "    <tr>\n",
       "      <th>mean</th>\n",
       "      <td>53.51</td>\n",
       "      <td>132.40</td>\n",
       "      <td>198.80</td>\n",
       "      <td>0.23</td>\n",
       "      <td>136.81</td>\n",
       "      <td>0.89</td>\n",
       "      <td>0.55</td>\n",
       "    </tr>\n",
       "    <tr>\n",
       "      <th>std</th>\n",
       "      <td>9.43</td>\n",
       "      <td>18.51</td>\n",
       "      <td>109.38</td>\n",
       "      <td>0.42</td>\n",
       "      <td>25.46</td>\n",
       "      <td>1.07</td>\n",
       "      <td>0.50</td>\n",
       "    </tr>\n",
       "    <tr>\n",
       "      <th>min</th>\n",
       "      <td>28.00</td>\n",
       "      <td>0.00</td>\n",
       "      <td>0.00</td>\n",
       "      <td>0.00</td>\n",
       "      <td>60.00</td>\n",
       "      <td>-2.60</td>\n",
       "      <td>0.00</td>\n",
       "    </tr>\n",
       "    <tr>\n",
       "      <th>25%</th>\n",
       "      <td>47.00</td>\n",
       "      <td>120.00</td>\n",
       "      <td>173.25</td>\n",
       "      <td>0.00</td>\n",
       "      <td>120.00</td>\n",
       "      <td>0.00</td>\n",
       "      <td>0.00</td>\n",
       "    </tr>\n",
       "    <tr>\n",
       "      <th>50%</th>\n",
       "      <td>54.00</td>\n",
       "      <td>130.00</td>\n",
       "      <td>223.00</td>\n",
       "      <td>0.00</td>\n",
       "      <td>138.00</td>\n",
       "      <td>0.60</td>\n",
       "      <td>1.00</td>\n",
       "    </tr>\n",
       "    <tr>\n",
       "      <th>75%</th>\n",
       "      <td>60.00</td>\n",
       "      <td>140.00</td>\n",
       "      <td>267.00</td>\n",
       "      <td>0.00</td>\n",
       "      <td>156.00</td>\n",
       "      <td>1.50</td>\n",
       "      <td>1.00</td>\n",
       "    </tr>\n",
       "    <tr>\n",
       "      <th>max</th>\n",
       "      <td>77.00</td>\n",
       "      <td>200.00</td>\n",
       "      <td>603.00</td>\n",
       "      <td>1.00</td>\n",
       "      <td>202.00</td>\n",
       "      <td>6.20</td>\n",
       "      <td>1.00</td>\n",
       "    </tr>\n",
       "  </tbody>\n",
       "</table>\n",
       "</div>"
      ],
      "text/plain": [
       "         Age  RestingBP  Cholesterol  FastingBS  MaxHR  Oldpeak  HeartDisease\n",
       "count 918.00     918.00       918.00     918.00 918.00   918.00        918.00\n",
       "mean   53.51     132.40       198.80       0.23 136.81     0.89          0.55\n",
       "std     9.43      18.51       109.38       0.42  25.46     1.07          0.50\n",
       "min    28.00       0.00         0.00       0.00  60.00    -2.60          0.00\n",
       "25%    47.00     120.00       173.25       0.00 120.00     0.00          0.00\n",
       "50%    54.00     130.00       223.00       0.00 138.00     0.60          1.00\n",
       "75%    60.00     140.00       267.00       0.00 156.00     1.50          1.00\n",
       "max    77.00     200.00       603.00       1.00 202.00     6.20          1.00"
      ]
     },
     "execution_count": 6,
     "metadata": {},
     "output_type": "execute_result"
    }
   ],
   "source": [
    "# take a sip of Numerical data\n",
    "pd.set_option(\"display.float\", \"{:.2f}\".format)\n",
    "df.describe()"
   ]
  },
  {
   "cell_type": "code",
   "execution_count": 7,
   "metadata": {},
   "outputs": [
    {
     "name": "stdout",
     "output_type": "stream",
     "text": [
      "Numerical Columns:  Index(['Age', 'RestingBP', 'Cholesterol', 'FastingBS', 'MaxHR', 'Oldpeak'], dtype='object')\n",
      "Categorical Columns: Index(['Sex', 'ChestPainType', 'RestingECG', 'ExerciseAngina', 'ST_Slope'], dtype='object')\n"
     ]
    }
   ],
   "source": [
    "# classify data format(type)\n",
    "numerical= df.drop(['HeartDisease'], axis=1).select_dtypes('number').columns\n",
    "categorical = df.select_dtypes('object').columns\n",
    "print(f'Numerical Columns:  {df[numerical].columns}')\n",
    "print(f'Categorical Columns: {df[categorical].columns}')"
   ]
  },
  {
   "cell_type": "markdown",
   "metadata": {},
   "source": [
    "# Numerical Data Analysis (numerical EDA)"
   ]
  },
  {
   "cell_type": "code",
   "execution_count": 8,
   "metadata": {},
   "outputs": [
    {
     "name": "stdout",
     "output_type": "stream",
     "text": [
      "Distrubution of  Age\n"
     ]
    },
    {
     "data": {
      "image/png": "[encoded data removed]",
      "text/plain": [
       "<Figure size 432x288 with 1 Axes>"
      ]
     },
     "metadata": {
      "needs_background": "light"
     },
     "output_type": "display_data"
    },
    {
     "name": "stdout",
     "output_type": "stream",
     "text": [
      "----------------------------------------------------------------------------------------------------\n",
      "Distrubution of  RestingBP\n"
     ]
    },
    {
     "data": {
      "image/png": "[encoded data removed]",
      "text/plain": [
       "<Figure size 432x288 with 1 Axes>"
      ]
     },
     "metadata": {
      "needs_background": "light"
     },
     "output_type": "display_data"
    },
    {
     "name": "stdout",
     "output_type": "stream",
     "text": [
      "----------------------------------------------------------------------------------------------------\n",
      "Distrubution of  Cholesterol\n"
     ]
    },
    {
     "data": {
      "image/png": "[encoded data removed]",
      "text/plain": [
       "<Figure size 432x288 with 1 Axes>"
      ]
     },
     "metadata": {
      "needs_background": "light"
     },
     "output_type": "display_data"
    },
    {
     "name": "stdout",
     "output_type": "stream",
     "text": [
      "----------------------------------------------------------------------------------------------------\n",
      "Distrubution of  FastingBS\n"
     ]
    },
    {
     "data": {
      "image/png": "[encoded data removed]",
      "text/plain": [
       "<Figure size 432x288 with 1 Axes>"
      ]
     },
     "metadata": {
      "needs_background": "light"
     },
     "output_type": "display_data"
    },
    {
     "name": "stdout",
     "output_type": "stream",
     "text": [
      "----------------------------------------------------------------------------------------------------\n",
      "Distrubution of  MaxHR\n"
     ]
    },
    {
     "data": {
      "image/png": "[encoded data removed]",
      "text/plain": [
       "<Figure size 432x288 with 1 Axes>"
      ]
     },
     "metadata": {
      "needs_background": "light"
     },
     "output_type": "display_data"
    },
    {
     "name": "stdout",
     "output_type": "stream",
     "text": [
      "----------------------------------------------------------------------------------------------------\n",
      "Distrubution of  Oldpeak\n"
     ]
    },
    {
     "data": {
      "image/png": "[encoded data removed]",
      "text/plain": [
       "<Figure size 432x288 with 1 Axes>"
      ]
     },
     "metadata": {
      "needs_background": "light"
     },
     "output_type": "display_data"
    },
    {
     "name": "stdout",
     "output_type": "stream",
     "text": [
      "----------------------------------------------------------------------------------------------------\n"
     ]
    }
   ],
   "source": [
    "for i in df[numerical]:\n",
    "    print(\"Distrubution of \", i)\n",
    "    plt.hist(df[i], bins=40)\n",
    "    plt.show()\n",
    "    print('-'*100)"
   ]
  },
  {
   "cell_type": "code",
   "execution_count": 9,
   "metadata": {},
   "outputs": [
    {
     "data": {
      "text/plain": [
       "<matplotlib.colorbar.Colorbar at 0x2b75c2fdc48>"
      ]
     },
     "execution_count": 9,
     "metadata": {},
     "output_type": "execute_result"
    },
    {
     "data": {
      "image/png": "[encoded data removed]",
      "text/plain": [
       "<Figure size 432x288 with 2 Axes>"
      ]
     },
     "metadata": {
      "needs_background": "light"
     },
     "output_type": "display_data"
    }
   ],
   "source": [
    "# Heatmap of numerical data correlation\n",
    "fig, ax = plt.subplots()\n",
    "ax.set_xticks(np.arange(len(df[numerical].count()))+.5)\n",
    "ax.set_yticks(np.arange(len(df[numerical].count()))+.5)\n",
    "\n",
    "ax.set_xticklabels(df[numerical])\n",
    "ax.set_yticklabels(df[numerical])\n",
    "\n",
    "plt.setp(ax.get_xticklabels(), rotation=45, ha=\"right\", rotation_mode=\"anchor\")\n",
    "ax.spines[:].set_visible(False)\n",
    "ax.tick_params(which=\"minor\", bottom=False, left=False)\n",
    "\n",
    "df_num_corr = df[numerical].corr().to_numpy()\n",
    "for y in range(len(df[numerical].count())):\n",
    "    for x in range(len(df[numerical].count())):\n",
    "        plt.text(x+0.5, y+0.5, '%.4f' % df_num_corr[y, x],\n",
    "                 horizontalalignment='center',\n",
    "                 verticalalignment='center',\n",
    "                 )\n",
    "\n",
    "heatmap = plt.pcolor(df[numerical].corr())\n",
    "plt.colorbar(heatmap)\n"
   ]
  },
  {
   "cell_type": "markdown",
   "metadata": {},
   "source": [
    "# Categorical Data Analylsis (categorical EDA)"
   ]
  },
  {
   "cell_type": "code",
   "execution_count": 10,
   "metadata": {},
   "outputs": [
    {
     "data": {
      "image/png": "[encoded data removed]",
      "text/plain": [
       "<Figure size 432x288 with 1 Axes>"
      ]
     },
     "metadata": {
      "needs_background": "light"
     },
     "output_type": "display_data"
    }
   ],
   "source": [
    "df_s_hd = df[['Sex', 'HeartDisease']]\n",
    "labels = ['Male', 'Female']\n",
    "nHD = [len(df_s_hd.loc[(df_s_hd['Sex']=='M') & (df_s_hd['HeartDisease']==0)]),\n",
    "      len(df_s_hd.loc[(df_s_hd['Sex']=='F') & (df_s_hd['HeartDisease']==0)])]\n",
    "HD = [len(df_s_hd.loc[(df_s_hd['Sex']=='M') & (df_s_hd['HeartDisease']==1)]),\n",
    "        len(df_s_hd.loc[(df_s_hd['Sex']=='F') & (df_s_hd['HeartDisease']==1)])]\n",
    "\n",
    "width = 0.90       # the width of the bars: can also be len(x) sequence\n",
    "\n",
    "fig, ax = plt.subplots()\n",
    "\n",
    "ax.bar(labels, nHD, width, label='Normal')\n",
    "ax.bar(labels, HD, width, bottom=nHD, label='Heart Disease')\n",
    "\n",
    "ax.set_ylabel('# of gender')\n",
    "ax.set_title('Sex v.s. Heart Disease')\n",
    "ax.legend()\n",
    "\n",
    "plt.show()"
   ]
  },
  {
   "cell_type": "code",
   "execution_count": 11,
   "metadata": {},
   "outputs": [
    {
     "data": {
      "image/png": "[encoded data removed]",
      "text/plain": [
       "<Figure size 432x288 with 1 Axes>"
      ]
     },
     "metadata": {
      "needs_background": "light"
     },
     "output_type": "display_data"
    }
   ],
   "source": [
    "df_cpt_hd = df[['ChestPainType', 'HeartDisease']]\n",
    "labels = ['ATA', 'NAP','ASY','TA']\n",
    "nHD = [len(df_cpt_hd.loc[(df_cpt_hd['ChestPainType']=='ATA') & (df_cpt_hd['HeartDisease']==0)]),\n",
    "       len(df_cpt_hd.loc[(df_cpt_hd['ChestPainType']=='NAP') & (df_cpt_hd['HeartDisease']==0)]),\n",
    "       len(df_cpt_hd.loc[(df_cpt_hd['ChestPainType']=='ASY') & (df_cpt_hd['HeartDisease']==0)]),\n",
    "       len(df_cpt_hd.loc[(df_cpt_hd['ChestPainType']=='TA') & (df_cpt_hd['HeartDisease']==0)])\n",
    "      ]\n",
    "HD = [len(df_cpt_hd.loc[(df_cpt_hd['ChestPainType']=='ATA') & (df_cpt_hd['HeartDisease']==1)]),\n",
    "       len(df_cpt_hd.loc[(df_cpt_hd['ChestPainType']=='NAP') & (df_cpt_hd['HeartDisease']==1)]),\n",
    "       len(df_cpt_hd.loc[(df_cpt_hd['ChestPainType']=='ASY') & (df_cpt_hd['HeartDisease']==1)]),\n",
    "       len(df_cpt_hd.loc[(df_cpt_hd['ChestPainType']=='TA') & (df_cpt_hd['HeartDisease']==1)])\n",
    "      ]\n",
    "\n",
    "width = 0.90       # the width of the bars: can also be len(x) sequence\n",
    "\n",
    "fig, ax = plt.subplots()\n",
    "\n",
    "ax.bar(labels, nHD, width, label='Normal')\n",
    "ax.bar(labels, HD, width, bottom=nHD, label='Heart Disease')\n",
    "\n",
    "ax.set_ylabel('counting')\n",
    "ax.set_title('ChestPainType v.s. Heart Disease')\n",
    "ax.legend()\n",
    "\n",
    "plt.show()"
   ]
  },
  {
   "cell_type": "code",
   "execution_count": 12,
   "metadata": {},
   "outputs": [
    {
     "data": {
      "image/png": "[encoded data removed]",
      "text/plain": [
       "<Figure size 432x288 with 1 Axes>"
      ]
     },
     "metadata": {
      "needs_background": "light"
     },
     "output_type": "display_data"
    }
   ],
   "source": [
    "df_ecg_hd = df[['RestingECG', 'HeartDisease']]\n",
    "labels = ['Normal', 'LVH','ST']\n",
    "nHD = [len(df_ecg_hd.loc[(df_ecg_hd['RestingECG']=='Normal') & (df_ecg_hd['HeartDisease']==0)]),\n",
    "       len(df_ecg_hd.loc[(df_ecg_hd['RestingECG']=='LVH') & (df_ecg_hd['HeartDisease']==0)]),\n",
    "       len(df_ecg_hd.loc[(df_ecg_hd['RestingECG']=='ST') & (df_ecg_hd['HeartDisease']==0)])\n",
    "      ]\n",
    "HD = [len(df_ecg_hd.loc[(df_ecg_hd['RestingECG']=='Normal') & (df_ecg_hd['HeartDisease']==1)]),\n",
    "       len(df_ecg_hd.loc[(df_ecg_hd['RestingECG']=='LVH') & (df_ecg_hd['HeartDisease']==1)]),\n",
    "       len(df_ecg_hd.loc[(df_ecg_hd['RestingECG']=='ST') & (df_ecg_hd['HeartDisease']==1)])\n",
    "      ]\n",
    "\n",
    "width = 0.90       # the width of the bars: can also be len(x) sequence\n",
    "\n",
    "fig, ax = plt.subplots()\n",
    "\n",
    "ax.bar(labels, nHD, width, label='Normal')\n",
    "ax.bar(labels, HD, width, bottom=nHD, label='Heart Disease')\n",
    "\n",
    "ax.set_ylabel('counting')\n",
    "ax.set_title('RestingECG v.s. Heart Disease')\n",
    "ax.legend()\n",
    "\n",
    "plt.show()"
   ]
  },
  {
   "cell_type": "code",
   "execution_count": 13,
   "metadata": {},
   "outputs": [
    {
     "data": {
      "image/png": "[encoded data removed]",
      "text/plain": [
       "<Figure size 432x288 with 1 Axes>"
      ]
     },
     "metadata": {
      "needs_background": "light"
     },
     "output_type": "display_data"
    }
   ],
   "source": [
    "df_ea_hd = df[['ExerciseAngina', 'HeartDisease']]\n",
    "labels = ['Y','N']\n",
    "nHD = [len(df_ea_hd.loc[(df_ea_hd['ExerciseAngina']=='Y') & (df_ea_hd['HeartDisease']==0)]),\n",
    "       len(df_ea_hd.loc[(df_ea_hd['ExerciseAngina']=='N') & (df_ea_hd['HeartDisease']==0)])\n",
    "      ]\n",
    "HD = [len(df_ea_hd.loc[(df_ea_hd['ExerciseAngina']=='Y') & (df_ea_hd['HeartDisease']==1)]),\n",
    "       len(df_ea_hd.loc[(df_ea_hd['ExerciseAngina']=='N') & (df_ea_hd['HeartDisease']==1)])\n",
    "      ]\n",
    "\n",
    "width = 0.90       # the width of the bars: can also be len(x) sequence\n",
    "\n",
    "fig, ax = plt.subplots()\n",
    "\n",
    "ax.bar(labels, nHD, width, label='Normal')\n",
    "ax.bar(labels, HD, width, bottom=nHD, label='Heart Disease')\n",
    "\n",
    "ax.set_ylabel('counting')\n",
    "ax.set_title('ExerciseAngina v.s. Heart Disease')\n",
    "ax.legend()\n",
    "\n",
    "plt.show()"
   ]
  },
  {
   "cell_type": "code",
   "execution_count": 14,
   "metadata": {},
   "outputs": [
    {
     "data": {
      "image/png": "[encoded data removed]",
      "text/plain": [
       "<Figure size 432x288 with 1 Axes>"
      ]
     },
     "metadata": {
      "needs_background": "light"
     },
     "output_type": "display_data"
    }
   ],
   "source": [
    "df_st_hd = df[['ST_Slope', 'HeartDisease']]\n",
    "labels = ['Flat', 'Down','Up']\n",
    "nHD = [len(df_st_hd.loc[(df_st_hd['ST_Slope']=='Flat') & (df_st_hd['HeartDisease']==0)]),\n",
    "       len(df_st_hd.loc[(df_st_hd['ST_Slope']=='Up') & (df_st_hd['HeartDisease']==0)]),\n",
    "       len(df_st_hd.loc[(df_st_hd['ST_Slope']=='Down') & (df_st_hd['HeartDisease']==0)])\n",
    "      ]\n",
    "HD = [len(df_st_hd.loc[(df_st_hd['ST_Slope']=='Flat') & (df_st_hd['HeartDisease']==1)]),\n",
    "       len(df_st_hd.loc[(df_st_hd['ST_Slope']=='Up') & (df_st_hd['HeartDisease']==1)]),\n",
    "       len(df_st_hd.loc[(df_st_hd['ST_Slope']=='Down') & (df_st_hd['HeartDisease']==1)])\n",
    "      ]\n",
    "\n",
    "width = 0.90       # the width of the bars: can also be len(x) sequence\n",
    "\n",
    "fig, ax = plt.subplots()\n",
    "\n",
    "ax.bar(labels, nHD, width, label='Normal')\n",
    "ax.bar(labels, HD, width, bottom=nHD, label='Heart Disease')\n",
    "\n",
    "ax.set_ylabel('counting')\n",
    "ax.set_title('ST_Slope v.s. Heart Disease')\n",
    "ax.legend()\n",
    "\n",
    "plt.show()"
   ]
  },
  {
   "cell_type": "markdown",
   "metadata": {},
   "source": [
    "# short conclusion of data description\n",
    "Overall Insights from the Exploratory Data Analysis  \n",
    "* Target variable(Heart Disease) has close to balanced data.  \n",
    "* Numerical features have weak correlation with the target variable.  \n",
    "* Oldpeak (depression related number) has a positive correlation with the heart disease.  \n",
    "* Maximum heart rate has negative correlation with the heart disease.  \n",
    "* Interestingly cholesterol has negative correlation with the heart disease.  \n",
    "* Based on the gender; Men are almost 2.44 times more likely have a heart disease than women.  \n",
    "* We can observe clear differences among the chest pain type.  \n",
    "* Person with ASY: Asymptomatic chest pain has almost 6 times more likely have a heart disease than person with ATA Atypical Angina chest pain.  \n",
    "* RestingECG: resting electrocardiogram results don't differ much.  \n",
    "* Person with ST: having ST-T wave abnormality is more likely have a heart disease than the others.  \n",
    "* ExerciseAngina: exercise-induced angina with 'Yes' almost 2.4 times more likley have a heart disaese than exercise-induced angina with 'No'  \n",
    "* ST_Slope: the slope of the peak exercise ST segment has differences.  \n",
    "* ST_Slope Up significantly less likely has heart disease than the other two segment.  "
   ]
  },
  {
   "cell_type": "markdown",
   "metadata": {},
   "source": [
    "# Model Build"
   ]
  },
  {
   "cell_type": "markdown",
   "metadata": {},
   "source": [
    "# Baseline Model -- Decision Tree\n",
    "## algo is CART"
   ]
  },
  {
   "cell_type": "markdown",
   "metadata": {},
   "source": [
    "## baseline encoder -- one-hot-encoder"
   ]
  },
  {
   "cell_type": "code",
   "execution_count": 15,
   "metadata": {},
   "outputs": [],
   "source": [
    "x = df.drop('HeartDisease', axis=1)\n",
    "y = df['HeartDisease']\n",
    "x_train, x_test, y_train, y_test = train_test_split(x, y, test_size=0.3)\n",
    "\n",
    "ohe= OneHotEncoder()\n",
    "data_encoded = ohe.fit_transform(df[categorical]) #WTF\n",
    "ct= make_column_transformer((ohe, categorical), remainder='passthrough')"
   ]
  },
  {
   "cell_type": "code",
   "execution_count": 16,
   "metadata": {},
   "outputs": [
    {
     "name": "stdout",
     "output_type": "stream",
     "text": [
      "Accuracy of Decision Trees :  0.8188405797101449\n",
      "cv-10 average score is : 80.48 %\n",
      "--------------------------------------------------\n",
      "Rules are below : \n",
      "--------------------------------------------------\n",
      "|--- ST_Slope_Up <= 0.50\n",
      "|   |--- ChestPainType_ASY <= 0.50\n",
      "|   |   |--- Sex_F <= 0.50\n",
      "|   |   |   |--- class: 1\n",
      "|   |   |--- Sex_F >  0.50\n",
      "|   |   |   |--- class: 0\n",
      "|   |--- ChestPainType_ASY >  0.50\n",
      "|   |   |--- Sex_M <= 0.50\n",
      "|   |   |   |--- class: 1\n",
      "|   |   |--- Sex_M >  0.50\n",
      "|   |   |   |--- class: 1\n",
      "|--- ST_Slope_Up >  0.50\n",
      "|   |--- Cholesterol <= 42.50\n",
      "|   |   |--- FastingBS <= 0.50\n",
      "|   |   |   |--- class: 1\n",
      "|   |   |--- FastingBS >  0.50\n",
      "|   |   |   |--- class: 1\n",
      "|   |--- Cholesterol >  42.50\n",
      "|   |   |--- ChestPainType_ASY <= 0.50\n",
      "|   |   |   |--- class: 0\n",
      "|   |   |--- ChestPainType_ASY >  0.50\n",
      "|   |   |   |--- class: 0\n",
      "\n"
     ]
    }
   ],
   "source": [
    "# ***********************Decision Tree Classification***********************\n",
    "### gini as criterion\n",
    "decTree = DecisionTreeClassifier(max_depth=3)\n",
    "pipe = make_pipeline(ct, decTree)\n",
    "pipe.fit(x_train, y_train)\n",
    "# print(pipe)\n",
    "\n",
    "y_pred_decTree = pipe.predict(x_test)\n",
    "print(\"Accuracy of Decision Trees : \" , metrics.accuracy_score(y_test, y_pred_decTree))\n",
    "\n",
    "scores = cross_val_score(pipe, x, y, cv=10)\n",
    "print('cv-10 average score is : {:.2f} %'.format(scores.mean()*100))\n",
    "feature_names = pipe.named_steps['columntransformer'].transformers[0][1].get_feature_names(df[categorical].columns).tolist()+df[numerical].columns.tolist()\n",
    "\n",
    "print('-'*50)\n",
    "print('Rules are below : ')\n",
    "print('-'*50)\n",
    "text_representation = tree.export_text(decTree, feature_names)\n",
    "print(text_representation)\n",
    "\n",
    "# print(tree.plot_tree(decTree))\n"
   ]
  },
  {
   "cell_type": "code",
   "execution_count": 17,
   "metadata": {},
   "outputs": [
    {
     "name": "stdout",
     "output_type": "stream",
     "text": [
      "Accuracy of Decision Trees :  0.8333333333333334\n",
      "cv-10 average score is : 81.14 %\n",
      "--------------------------------------------------\n",
      "Rules are below : \n",
      "--------------------------------------------------\n",
      "|--- ST_Slope_Up <= 0.50\n",
      "|   |--- ChestPainType_ASY <= 0.50\n",
      "|   |   |--- Sex_M <= 0.50\n",
      "|   |   |   |--- class: 0\n",
      "|   |   |--- Sex_M >  0.50\n",
      "|   |   |   |--- class: 1\n",
      "|   |--- ChestPainType_ASY >  0.50\n",
      "|   |   |--- Sex_F <= 0.50\n",
      "|   |   |   |--- class: 1\n",
      "|   |   |--- Sex_F >  0.50\n",
      "|   |   |   |--- class: 1\n",
      "|--- ST_Slope_Up >  0.50\n",
      "|   |--- ChestPainType_ASY <= 0.50\n",
      "|   |   |--- Age <= 56.50\n",
      "|   |   |   |--- class: 0\n",
      "|   |   |--- Age >  56.50\n",
      "|   |   |   |--- class: 0\n",
      "|   |--- ChestPainType_ASY >  0.50\n",
      "|   |   |--- Oldpeak <= 0.40\n",
      "|   |   |   |--- class: 0\n",
      "|   |   |--- Oldpeak >  0.40\n",
      "|   |   |   |--- class: 1\n",
      "\n"
     ]
    }
   ],
   "source": [
    "# ***********************Decision Tree Classification***********************\n",
    "### entropy as criterion\n",
    "decTree = DecisionTreeClassifier(criterion='entropy',max_depth=3)\n",
    "pipe = make_pipeline(ct, decTree)\n",
    "pipe.fit(x_train, y_train)\n",
    "# print(pipe)\n",
    "\n",
    "y_pred_decTree = pipe.predict(x_test)\n",
    "print(\"Accuracy of Decision Trees : \" , metrics.accuracy_score(y_test, y_pred_decTree))\n",
    "\n",
    "scores = cross_val_score(pipe, x, y, cv=10)\n",
    "print('cv-10 average score is : {:.2f} %'.format(scores.mean()*100))\n",
    "feature_names = pipe.named_steps['columntransformer'].transformers[0][1].get_feature_names(df[categorical].columns).tolist()+df[numerical].columns.tolist()\n",
    "\n",
    "print('-'*50)\n",
    "print('Rules are below : ')\n",
    "print('-'*50)\n",
    "text_representation = tree.export_text(decTree, feature_names)\n",
    "print(text_representation)\n",
    "\n",
    "# print(tree.plot_tree(decTree))"
   ]
  },
  {
   "cell_type": "markdown",
   "metadata": {},
   "source": [
    "# Dummy"
   ]
  },
  {
   "cell_type": "code",
   "execution_count": 18,
   "metadata": {},
   "outputs": [],
   "source": [
    "from sklearn.dummy import DummyClassifier"
   ]
  },
  {
   "cell_type": "code",
   "execution_count": 19,
   "metadata": {},
   "outputs": [
    {
     "name": "stdout",
     "output_type": "stream",
     "text": [
      "model : DummyClassifier(constant=0, random_state=None, strategy='constant') and  accuracy score is : 0.442\n",
      "####################################################################################################\n",
      "Cross Validate 10 fold: \n",
      "[0.44565217 0.44565217 0.44565217 0.44565217 0.44565217 0.44565217\n",
      " 0.44565217 0.44565217 0.45054945 0.45054945]\n",
      "cv-10 average score is : 44.66 %\n",
      "####################################################################################################\n"
     ]
    },
    {
     "data": {
      "text/html": [
       "<div>\n",
       "<style scoped>\n",
       "    .dataframe tbody tr th:only-of-type {\n",
       "        vertical-align: middle;\n",
       "    }\n",
       "\n",
       "    .dataframe tbody tr th {\n",
       "        vertical-align: top;\n",
       "    }\n",
       "\n",
       "    .dataframe thead th {\n",
       "        text-align: right;\n",
       "    }\n",
       "</style>\n",
       "<table border=\"1\" class=\"dataframe\">\n",
       "  <thead>\n",
       "    <tr style=\"text-align: right;\">\n",
       "      <th></th>\n",
       "      <th>Accuracy</th>\n",
       "    </tr>\n",
       "  </thead>\n",
       "  <tbody>\n",
       "    <tr>\n",
       "      <th>DummyClassifier</th>\n",
       "      <td>0.44</td>\n",
       "    </tr>\n",
       "  </tbody>\n",
       "</table>\n",
       "</div>"
      ],
      "text/plain": [
       "                 Accuracy\n",
       "DummyClassifier      0.44"
      ]
     },
     "execution_count": 19,
     "metadata": {},
     "output_type": "execute_result"
    }
   ],
   "source": [
    "accuracy=[]\n",
    "\n",
    "# defining model\n",
    "model = DummyClassifier(strategy='constant', constant=0)\n",
    "pipe = make_pipeline(ct, model)\n",
    "pipe.fit(x_train, y_train)\n",
    "y_pred = pipe.predict(x_test)\n",
    "\n",
    "accuracy.append(round(metrics.accuracy_score(y_test, y_pred),4))\n",
    "print (f'model : {model} and  accuracy score is : {round(metrics.accuracy_score(y_test, y_pred),4)}')\n",
    "\n",
    "model_names = ['DummyClassifier']\n",
    "dummy_result_df = pd.DataFrame({'Accuracy':accuracy}, index=model_names)\n",
    "\n",
    "#  10 fold cross validation\n",
    "print('#'*100)\n",
    "print('Cross Validate 10 fold: ')\n",
    "scores = cross_val_score(pipe, x, y, cv=10)\n",
    "print(scores)\n",
    "print('cv-10 average score is : {:.2f} %'.format(scores.mean()*100))\n",
    "print('#'*100)\n",
    "\n",
    "\n",
    "dummy_result_df\n"
   ]
  },
  {
   "cell_type": "markdown",
   "metadata": {},
   "source": [
    "# Logistic, Linear Discriminant, SVC, KNN"
   ]
  },
  {
   "cell_type": "code",
   "execution_count": 20,
   "metadata": {},
   "outputs": [],
   "source": [
    "from sklearn.discriminant_analysis import LinearDiscriminantAnalysis\n",
    "from sklearn.linear_model import LogisticRegression\n",
    "from sklearn.svm import SVC\n",
    "from sklearn.neighbors import KNeighborsClassifier"
   ]
  },
  {
   "cell_type": "code",
   "execution_count": 21,
   "metadata": {},
   "outputs": [],
   "source": [
    "# defining model\n",
    "lr = LogisticRegression(solver='liblinear')\n",
    "lda= LinearDiscriminantAnalysis()\n",
    "svm = SVC(gamma='scale')\n",
    "knn = KNeighborsClassifier()"
   ]
  },
  {
   "cell_type": "code",
   "execution_count": 24,
   "metadata": {},
   "outputs": [
    {
     "name": "stdout",
     "output_type": "stream",
     "text": [
      "####################################################################################################\n",
      "model LogisticRegression(C=1.0, class_weight=None, dual=False, fit_intercept=True,\n",
      "                   intercept_scaling=1, l1_ratio=None, max_iter=100,\n",
      "                   multi_class='auto', n_jobs=None, penalty='l2',\n",
      "                   random_state=None, solver='liblinear', tol=0.0001, verbose=0,\n",
      "                   warm_start=False) \n",
      "average 10-fold cross validation accuracy score is : 85.2723\n",
      "####################################################################################################\n",
      "####################################################################################################\n",
      "model LinearDiscriminantAnalysis(n_components=None, priors=None, shrinkage=None,\n",
      "                           solver='svd', store_covariance=False, tol=0.0001) \n",
      "average 10-fold cross validation accuracy score is : 84.7289\n",
      "####################################################################################################\n",
      "####################################################################################################\n",
      "model SVC(C=1.0, break_ties=False, cache_size=200, class_weight=None, coef0=0.0,\n",
      "    decision_function_shape='ovr', degree=3, gamma='scale', kernel='rbf',\n",
      "    max_iter=-1, probability=False, random_state=None, shrinking=True,\n",
      "    tol=0.001, verbose=False) \n",
      "average 10-fold cross validation accuracy score is : 70.5686\n",
      "####################################################################################################\n",
      "####################################################################################################\n",
      "model KNeighborsClassifier(algorithm='auto', leaf_size=30, metric='minkowski',\n",
      "                     metric_params=None, n_jobs=None, n_neighbors=5, p=2,\n",
      "                     weights='uniform') \n",
      "average 10-fold cross validation accuracy score is : 70.2437\n",
      "####################################################################################################\n"
     ]
    },
    {
     "data": {
      "text/html": [
       "<div>\n",
       "<style scoped>\n",
       "    .dataframe tbody tr th:only-of-type {\n",
       "        vertical-align: middle;\n",
       "    }\n",
       "\n",
       "    .dataframe tbody tr th {\n",
       "        vertical-align: top;\n",
       "    }\n",
       "\n",
       "    .dataframe thead th {\n",
       "        text-align: right;\n",
       "    }\n",
       "</style>\n",
       "<table border=\"1\" class=\"dataframe\">\n",
       "  <thead>\n",
       "    <tr style=\"text-align: right;\">\n",
       "      <th></th>\n",
       "      <th>Accuracy</th>\n",
       "    </tr>\n",
       "  </thead>\n",
       "  <tbody>\n",
       "    <tr>\n",
       "      <th>Logistic</th>\n",
       "      <td>70.24</td>\n",
       "    </tr>\n",
       "    <tr>\n",
       "      <th>LinearDiscriminant</th>\n",
       "      <td>85.27</td>\n",
       "    </tr>\n",
       "    <tr>\n",
       "      <th>SVM</th>\n",
       "      <td>84.73</td>\n",
       "    </tr>\n",
       "    <tr>\n",
       "      <th>KNeighbors</th>\n",
       "      <td>70.57</td>\n",
       "    </tr>\n",
       "  </tbody>\n",
       "</table>\n",
       "</div>"
      ],
      "text/plain": [
       "                    Accuracy\n",
       "Logistic               70.24\n",
       "LinearDiscriminant     85.27\n",
       "SVM                    84.73\n",
       "KNeighbors             70.57"
      ]
     },
     "execution_count": 24,
     "metadata": {},
     "output_type": "execute_result"
    }
   ],
   "source": [
    "models = [lr,lda,svm,knn]\n",
    "accuracy=[]\n",
    "\n",
    "for model in models: \n",
    "    pipe = make_pipeline(ct, model)\n",
    "    pipe.fit(x_train, y_train)\n",
    "    y_pred = pipe.predict(x_test)\n",
    "    accuracy.append(round(scores.mean()*100 ,4))\n",
    "    print('#'*100)\n",
    "    scores = cross_val_score(pipe, x, y, cv=10)\n",
    "    print (f'model {model} \\naverage 10-fold cross validation accuracy score is : {round(scores.mean()*100,4)}')\n",
    "    print('#'*100)\n",
    "    \n",
    "model_names = ['Logistic','LinearDiscriminant','SVM','KNeighbors']\n",
    "result_df1 = pd.DataFrame({'Accuracy':accuracy}, index=model_names)\n",
    "result_df1"
   ]
  },
  {
   "cell_type": "markdown",
   "metadata": {},
   "source": [
    "# Logistic, Linear Discriminant, SVC, KNN with scaler"
   ]
  },
  {
   "cell_type": "code",
   "execution_count": 28,
   "metadata": {},
   "outputs": [],
   "source": [
    "s= StandardScaler()\n",
    "ct_ohe_s= make_column_transformer((ohe, categorical),(s, numerical))  "
   ]
  },
  {
   "cell_type": "code",
   "execution_count": 31,
   "metadata": {
    "scrolled": false
   },
   "outputs": [
    {
     "name": "stdout",
     "output_type": "stream",
     "text": [
      "####################################################################################################\n",
      "model LogisticRegression(C=1.0, class_weight=None, dual=False, fit_intercept=True,\n",
      "                   intercept_scaling=1, l1_ratio=None, max_iter=100,\n",
      "                   multi_class='auto', n_jobs=None, penalty='l2',\n",
      "                   random_state=None, solver='liblinear', tol=0.0001, verbose=0,\n",
      "                   warm_start=False) \n",
      "average 10-fold cross validation accuracy score is : 85.1648\n",
      "####################################################################################################\n",
      "####################################################################################################\n",
      "model LinearDiscriminantAnalysis(n_components=None, priors=None, shrinkage=None,\n",
      "                           solver='svd', store_covariance=False, tol=0.0001) \n",
      "average 10-fold cross validation accuracy score is : 84.7289\n",
      "####################################################################################################\n",
      "####################################################################################################\n",
      "model SVC(C=1.0, break_ties=False, cache_size=200, class_weight=None, coef0=0.0,\n",
      "    decision_function_shape='ovr', degree=3, gamma='scale', kernel='rbf',\n",
      "    max_iter=-1, probability=False, random_state=None, shrinking=True,\n",
      "    tol=0.001, verbose=False) \n",
      "average 10-fold cross validation accuracy score is : 86.2578\n",
      "####################################################################################################\n",
      "####################################################################################################\n",
      "model KNeighborsClassifier(algorithm='auto', leaf_size=30, metric='minkowski',\n",
      "                     metric_params=None, n_jobs=None, n_neighbors=5, p=2,\n",
      "                     weights='uniform') \n",
      "average 10-fold cross validation accuracy score is : 85.4945\n",
      "####################################################################################################\n"
     ]
    },
    {
     "data": {
      "text/html": [
       "<div>\n",
       "<style scoped>\n",
       "    .dataframe tbody tr th:only-of-type {\n",
       "        vertical-align: middle;\n",
       "    }\n",
       "\n",
       "    .dataframe tbody tr th {\n",
       "        vertical-align: top;\n",
       "    }\n",
       "\n",
       "    .dataframe thead th {\n",
       "        text-align: right;\n",
       "    }\n",
       "</style>\n",
       "<table border=\"1\" class=\"dataframe\">\n",
       "  <thead>\n",
       "    <tr style=\"text-align: right;\">\n",
       "      <th></th>\n",
       "      <th>Accuracy</th>\n",
       "    </tr>\n",
       "  </thead>\n",
       "  <tbody>\n",
       "    <tr>\n",
       "      <th>Logistic_scl</th>\n",
       "      <td>85.49</td>\n",
       "    </tr>\n",
       "    <tr>\n",
       "      <th>LinearDiscriminant_scl</th>\n",
       "      <td>85.16</td>\n",
       "    </tr>\n",
       "    <tr>\n",
       "      <th>SVM_scl</th>\n",
       "      <td>84.73</td>\n",
       "    </tr>\n",
       "    <tr>\n",
       "      <th>KNeighbors_scl</th>\n",
       "      <td>86.26</td>\n",
       "    </tr>\n",
       "  </tbody>\n",
       "</table>\n",
       "</div>"
      ],
      "text/plain": [
       "                        Accuracy\n",
       "Logistic_scl               85.49\n",
       "LinearDiscriminant_scl     85.16\n",
       "SVM_scl                    84.73\n",
       "KNeighbors_scl             86.26"
      ]
     },
     "execution_count": 31,
     "metadata": {},
     "output_type": "execute_result"
    }
   ],
   "source": [
    "accuracy=[]\n",
    "\n",
    "lr = LogisticRegression(solver='liblinear')\n",
    "lda= LinearDiscriminantAnalysis()\n",
    "svm = SVC(gamma='scale')\n",
    "knn = KNeighborsClassifier()\n",
    "\n",
    "models = [lr,lda,svm,knn]\n",
    "\n",
    "for model in models: \n",
    "    pipe = make_pipeline(ct_ohe_s, model)\n",
    "    pipe.fit(x_train, y_train)\n",
    "    y_pred = pipe.predict(x_test)\n",
    "    accuracy.append(round(scores.mean()*100 ,4))\n",
    "    print('#'*100)\n",
    "    scores = cross_val_score(pipe, x, y, cv=10)\n",
    "    print (f'model {model} \\naverage 10-fold cross validation accuracy score is : {round(scores.mean()*100,4)}')\n",
    "    print('#'*100)\n",
    "    \n",
    "model_names = ['Logistic_scl','LinearDiscriminant_scl','SVM_scl','KNeighbors_scl']\n",
    "result_df = pd.DataFrame({'Accuracy':accuracy}, index=model_names)\n",
    "result_df"
   ]
  },
  {
   "cell_type": "code",
   "execution_count": 33,
   "metadata": {},
   "outputs": [
    {
     "name": "stdout",
     "output_type": "stream",
     "text": [
      "rusult with no scaler\n"
     ]
    },
    {
     "data": {
      "text/html": [
       "<div>\n",
       "<style scoped>\n",
       "    .dataframe tbody tr th:only-of-type {\n",
       "        vertical-align: middle;\n",
       "    }\n",
       "\n",
       "    .dataframe tbody tr th {\n",
       "        vertical-align: top;\n",
       "    }\n",
       "\n",
       "    .dataframe thead th {\n",
       "        text-align: right;\n",
       "    }\n",
       "</style>\n",
       "<table border=\"1\" class=\"dataframe\">\n",
       "  <thead>\n",
       "    <tr style=\"text-align: right;\">\n",
       "      <th></th>\n",
       "      <th>Accuracy</th>\n",
       "    </tr>\n",
       "  </thead>\n",
       "  <tbody>\n",
       "    <tr>\n",
       "      <th>Logistic</th>\n",
       "      <td>70.24</td>\n",
       "    </tr>\n",
       "    <tr>\n",
       "      <th>LinearDiscriminant</th>\n",
       "      <td>85.27</td>\n",
       "    </tr>\n",
       "    <tr>\n",
       "      <th>SVM</th>\n",
       "      <td>84.73</td>\n",
       "    </tr>\n",
       "    <tr>\n",
       "      <th>KNeighbors</th>\n",
       "      <td>70.57</td>\n",
       "    </tr>\n",
       "  </tbody>\n",
       "</table>\n",
       "</div>"
      ],
      "text/plain": [
       "                    Accuracy\n",
       "Logistic               70.24\n",
       "LinearDiscriminant     85.27\n",
       "SVM                    84.73\n",
       "KNeighbors             70.57"
      ]
     },
     "execution_count": 33,
     "metadata": {},
     "output_type": "execute_result"
    }
   ],
   "source": [
    "print('rusult with no scaler')\n",
    "result_df1"
   ]
  },
  {
   "cell_type": "markdown",
   "metadata": {},
   "source": [
    "# random forest"
   ]
  },
  {
   "cell_type": "code",
   "execution_count": 35,
   "metadata": {},
   "outputs": [],
   "source": [
    "from sklearn.ensemble import RandomForestClassifier"
   ]
  },
  {
   "cell_type": "code",
   "execution_count": 36,
   "metadata": {},
   "outputs": [
    {
     "name": "stdout",
     "output_type": "stream",
     "text": [
      "Accuracy of Random Forest Classifier ::  0.8804347826086957\n",
      "Feature: Sex_F, Score: 0.02293\n",
      "Feature: Sex_M, Score: 0.02272\n",
      "Feature: ChestPainType_ASY, Score: 0.08392\n",
      "Feature: ChestPainType_ATA, Score: 0.02135\n",
      "Feature: ChestPainType_NAP, Score: 0.01495\n",
      "Feature: ChestPainType_TA, Score: 0.00625\n",
      "Feature: RestingECG_LVH, Score: 0.01366\n",
      "Feature: RestingECG_Normal, Score: 0.01266\n",
      "Feature: RestingECG_ST, Score: 0.00812\n",
      "Feature: ExerciseAngina_N, Score: 0.04149\n",
      "Feature: ExerciseAngina_Y, Score: 0.04914\n",
      "Feature: ST_Slope_Down, Score: 0.00721\n",
      "Feature: ST_Slope_Flat, Score: 0.11254\n",
      "Feature: ST_Slope_Up, Score: 0.15448\n",
      "Feature: Age, Score: 0.07394\n",
      "Feature: RestingBP, Score: 0.06739\n",
      "Feature: Cholesterol, Score: 0.09091\n",
      "Feature: FastingBS, Score: 0.01720\n",
      "Feature: MaxHR, Score: 0.08698\n",
      "Feature: Oldpeak, Score: 0.09215\n",
      "####################################################################################################\n",
      "Cross Validate 10 fold: \n",
      "[0.91304348 0.93478261 0.80434783 0.89130435 0.85869565 0.85869565\n",
      " 0.88043478 0.80434783 0.8021978  0.81318681]\n",
      "cv-10 average score is : 85.61 %\n",
      "####################################################################################################\n"
     ]
    }
   ],
   "source": [
    "rf = RandomForestClassifier(n_estimators=500)\n",
    "pipe = make_pipeline(ct, rf) \n",
    "pipe.fit(x_train,y_train)\n",
    "y_pred_rf = pipe.predict(x_test)\n",
    "print(\"Accuracy of Random Forest Classifier :: \", metrics.accuracy_score(y_test, y_pred_rf))\n",
    "#Find the score of each feature in model and drop the features with low scores\n",
    "f_imp = pipe['randomforestclassifier'].feature_importances_\n",
    "for i,v in enumerate(f_imp):\n",
    "    print('Feature: %s, Score: %.5f' % (feature_names[i],v))\n",
    "\n",
    "    #  10 fold cross validation\n",
    "print('#'*100)\n",
    "print('Cross Validate 10 fold: ')\n",
    "scores = cross_val_score(pipe, x, y, cv=10)\n",
    "print(scores)\n",
    "print('cv-10 average score is : {:.2f} %'.format(scores.mean()*100))\n",
    "print('#'*100)"
   ]
  },
  {
   "cell_type": "markdown",
   "metadata": {},
   "source": [
    "# Bayes"
   ]
  },
  {
   "cell_type": "code",
   "execution_count": 37,
   "metadata": {},
   "outputs": [],
   "source": [
    "from sklearn.naive_bayes import GaussianNB, BernoulliNB, CategoricalNB, ComplementNB, MultinomialNB"
   ]
  },
  {
   "cell_type": "code",
   "execution_count": 38,
   "metadata": {},
   "outputs": [
    {
     "name": "stdout",
     "output_type": "stream",
     "text": [
      "Accuracy of naive bayes Classifier ::  0.8659420289855072\n",
      "Cross Validate 10 fold: \n",
      "[0.81521739 0.92391304 0.88043478 0.92391304 0.86956522 0.83695652\n",
      " 0.88043478 0.75       0.81318681 0.82417582]\n",
      "cv-10 average score is : 85.18 %\n",
      "####################################################################################################\n",
      "Accuracy of naive bayes Classifier ::  0.8405797101449275\n",
      "Cross Validate 10 fold: \n",
      "[0.84782609 0.93478261 0.86956522 0.92391304 0.86956522 0.83695652\n",
      " 0.86956522 0.81521739 0.76923077 0.79120879]\n",
      "cv-10 average score is : 85.28 %\n",
      "####################################################################################################\n"
     ]
    }
   ],
   "source": [
    "models = [GaussianNB(), BernoulliNB()]\n",
    " \n",
    "#[1] Naive Bayes classifier for multivariate Bernoulli models.\n",
    "#[2] CategoricalNB(), (must not contain negative number), Naive Bayes classifier for categorical features.\n",
    "#[3] Complement Naive Bayes classifier. , ComplementNB()\n",
    "#[4] Naive Bayes classifier for multinomial models., MultinomialNB()\n",
    "\n",
    "for model in models:\n",
    "    pipe = make_pipeline(ct, model) \n",
    "    pipe.fit(x_train,y_train)\n",
    "    y_pred_rf = pipe.predict(x_test)\n",
    "    print(\"Accuracy of naive bayes Classifier :: \", metrics.accuracy_score(y_test, y_pred_rf))\n",
    "\n",
    "        #  10 fold cross validatio\n",
    "    print('Cross Validate 10 fold: ')\n",
    "    scores = cross_val_score(pipe, x, y, cv=10)\n",
    "    print(scores)\n",
    "    print('cv-10 average score is : {:.2f} %'.format(scores.mean()*100))\n",
    "    print('#'*100)"
   ]
  },
  {
   "cell_type": "code",
   "execution_count": null,
   "metadata": {},
   "outputs": [],
   "source": []
  },
  {
   "cell_type": "code",
   "execution_count": null,
   "metadata": {},
   "outputs": [],
   "source": []
  },
  {
   "cell_type": "code",
   "execution_count": null,
   "metadata": {},
   "outputs": [],
   "source": []
  }
 ],
 "metadata": {
  "kernelspec": {
   "display_name": "Python 3",
   "language": "python",
   "name": "python3"
  },
  "language_info": {
   "codemirror_mode": {
    "name": "ipython",
    "version": 3
   },
   "file_extension": ".py",
   "mimetype": "text/x-python",
   "name": "python",
   "nbconvert_exporter": "python",
   "pygments_lexer": "ipython3",
   "version": "3.7.6"
  }
 },
 "nbformat": 4,
 "nbformat_minor": 4
}
